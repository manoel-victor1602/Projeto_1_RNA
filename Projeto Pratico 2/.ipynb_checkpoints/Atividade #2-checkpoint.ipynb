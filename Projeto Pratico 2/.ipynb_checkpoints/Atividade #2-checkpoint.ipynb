{
 "cells": [
  {
   "cell_type": "markdown",
   "metadata": {},
   "source": [
    "# Teste 2 - 11/09/2018\n",
    "\n",
    "## Disponibilização: 10/09/2018 - 11h\n",
    "## Encerramento: 11/09/2018 - 20h\n",
    "\n",
    "O objetivo deste segundo projeto prático da disciplina Redes Neurais Artificias é praticar os conceitos de Machine Learning vistos até o momento, em especial aqueles relativos ao processo de Aprendizagem de Máquina.\n",
    "\n",
    "Vamos trabalhar com o dataset **Breast Cancer Wisconsin (Diagnostic) Data Set**, vide: <a href=\"https://archive.ics.uci.edu/ml/datasets/Breast+Cancer+Wisconsin+(Diagnostic)\">Repositório UCI</a>\n",
    "\n",
    "Esta tarefa é dividida em to-dos, isto é, pequenas atividades que devem ser cumpridas para que o objetivo geral seja alcançado. A cada to-do está associada uma célula do Jupyter Notebook, que deve ser preenchida com código Python atendendo ao que se pede.\n",
    "\n",
    "\n",
    "Edite aqui o nome da equipe:\n",
    "\n",
    "- Manoel Victor Florencio de Souza\n",
    "- Sérgio Alexandre Arruda Pinheiro"
   ]
  },
  {
   "cell_type": "code",
   "execution_count": 1,
   "metadata": {},
   "outputs": [],
   "source": [
    "# Organize seus imports nesta célula\n",
    "import pandas as pd\n",
    "import numpy as np\n",
    "import matplotlib.pyplot as plt\n",
    "from sklearn.datasets import load_breast_cancer\n",
    "from sklearn.model_selection import train_test_split"
   ]
  },
  {
   "cell_type": "markdown",
   "metadata": {},
   "source": [
    "### To-Do 1\n",
    "\n",
    "1. Você deve importar o dataset a partir do sci-kit learn.\n",
    "Consulte o link: [Link da documentação do sci-kit learn](http://scikit-learn.org/stable/modules/generated/sklearn.datasets.load_breast_cancer.html#sklearn.datasets.load_breast_cancer)\n",
    "   * Este dataset está organizado sob a forma de um dicionário, em que os dados preditores encontram-se na chave 'data', composta de diversas matrizes. Cada matriz está associada a um nome 'feature_names'. \n",
    "2. Crie um novo dicionário que mapeia cada 'feature_name' para uma matriz correspondente.\n",
    "    * Antes de fazer esta associação, transponha a matriz localizada na chave 'data' para obter a dimensão correta.\n",
    "3. Transforme o dataset em um objeto do tipo DataFrame do pandas\n",
    "4. Adicione o atributo-alvo ao dataset existente.\n",
    "    * Importante: O atributo-alvo está na chave 'target' do dicionário, com nome 'target_names'"
   ]
  },
  {
   "cell_type": "code",
   "execution_count": 3,
   "metadata": {},
   "outputs": [],
   "source": [
    "breast_cancer_dataset = load_breast_cancer()"
   ]
  },
  {
   "cell_type": "code",
   "execution_count": 4,
   "metadata": {},
   "outputs": [],
   "source": [
    "#versao manoel\n",
    "#2. \n",
    "features_names = breast_cancer_dataset.feature_names\n",
    "data = breast_cancer_dataset.data.transpose()\n",
    "\n",
    "feature_dict = {}\n",
    "for feature_name, feature_data in zip(features_names, data):\n",
    "    feature_dict[feature_name] = feature_data"
   ]
  },
  {
   "cell_type": "code",
   "execution_count": 5,
   "metadata": {},
   "outputs": [],
   "source": [
    "feature_data = breast_cancer_dataset['data'].transpose()\n",
    "\n",
    "feature_dict = {}\n",
    "for feature_index in range(len(feature_data)):\n",
    "    feature_dict[breast_cancer_dataset['feature_names'][feature_index]] = feature_data[feature_index]"
   ]
  },
  {
   "cell_type": "code",
   "execution_count": 6,
   "metadata": {},
   "outputs": [],
   "source": [
    "df = pd.DataFrame.from_dict(feature_dict)"
   ]
  },
  {
   "cell_type": "code",
   "execution_count": 7,
   "metadata": {},
   "outputs": [],
   "source": [
    "# Versao manoel\n",
    "#4.\n",
    "\n",
    "df['diagnosis'] = data=breast_cancer_dataset.target"
   ]
  },
  {
   "cell_type": "code",
   "execution_count": 8,
   "metadata": {},
   "outputs": [],
   "source": [
    "# Versão manoel alternativa\n",
    "# 4. \n",
    "diagnosis_map = {0 : 'malignant', 1 : 'benign'}\n",
    "\n",
    "df['diagnosis'] = breast_cancer_dataset.target\n",
    "\n",
    "df.diagnosis = df.diagnosis.map(diagnosis_map)"
   ]
  },
  {
   "cell_type": "code",
   "execution_count": 9,
   "metadata": {},
   "outputs": [
    {
     "data": {
      "text/html": [
       "<div>\n",
       "<style scoped>\n",
       "    .dataframe tbody tr th:only-of-type {\n",
       "        vertical-align: middle;\n",
       "    }\n",
       "\n",
       "    .dataframe tbody tr th {\n",
       "        vertical-align: top;\n",
       "    }\n",
       "\n",
       "    .dataframe thead th {\n",
       "        text-align: right;\n",
       "    }\n",
       "</style>\n",
       "<table border=\"1\" class=\"dataframe\">\n",
       "  <thead>\n",
       "    <tr style=\"text-align: right;\">\n",
       "      <th></th>\n",
       "      <th>area error</th>\n",
       "      <th>compactness error</th>\n",
       "      <th>concave points error</th>\n",
       "      <th>concavity error</th>\n",
       "      <th>fractal dimension error</th>\n",
       "      <th>mean area</th>\n",
       "      <th>mean compactness</th>\n",
       "      <th>mean concave points</th>\n",
       "      <th>mean concavity</th>\n",
       "      <th>mean fractal dimension</th>\n",
       "      <th>...</th>\n",
       "      <th>worst compactness</th>\n",
       "      <th>worst concave points</th>\n",
       "      <th>worst concavity</th>\n",
       "      <th>worst fractal dimension</th>\n",
       "      <th>worst perimeter</th>\n",
       "      <th>worst radius</th>\n",
       "      <th>worst smoothness</th>\n",
       "      <th>worst symmetry</th>\n",
       "      <th>worst texture</th>\n",
       "      <th>diagnosis</th>\n",
       "    </tr>\n",
       "  </thead>\n",
       "  <tbody>\n",
       "    <tr>\n",
       "      <th>0</th>\n",
       "      <td>153.40</td>\n",
       "      <td>0.04904</td>\n",
       "      <td>0.01587</td>\n",
       "      <td>0.05373</td>\n",
       "      <td>0.006193</td>\n",
       "      <td>1001.0</td>\n",
       "      <td>0.27760</td>\n",
       "      <td>0.14710</td>\n",
       "      <td>0.3001</td>\n",
       "      <td>0.07871</td>\n",
       "      <td>...</td>\n",
       "      <td>0.6656</td>\n",
       "      <td>0.2654</td>\n",
       "      <td>0.7119</td>\n",
       "      <td>0.11890</td>\n",
       "      <td>184.60</td>\n",
       "      <td>25.38</td>\n",
       "      <td>0.1622</td>\n",
       "      <td>0.4601</td>\n",
       "      <td>17.33</td>\n",
       "      <td>malignant</td>\n",
       "    </tr>\n",
       "    <tr>\n",
       "      <th>1</th>\n",
       "      <td>74.08</td>\n",
       "      <td>0.01308</td>\n",
       "      <td>0.01340</td>\n",
       "      <td>0.01860</td>\n",
       "      <td>0.003532</td>\n",
       "      <td>1326.0</td>\n",
       "      <td>0.07864</td>\n",
       "      <td>0.07017</td>\n",
       "      <td>0.0869</td>\n",
       "      <td>0.05667</td>\n",
       "      <td>...</td>\n",
       "      <td>0.1866</td>\n",
       "      <td>0.1860</td>\n",
       "      <td>0.2416</td>\n",
       "      <td>0.08902</td>\n",
       "      <td>158.80</td>\n",
       "      <td>24.99</td>\n",
       "      <td>0.1238</td>\n",
       "      <td>0.2750</td>\n",
       "      <td>23.41</td>\n",
       "      <td>malignant</td>\n",
       "    </tr>\n",
       "    <tr>\n",
       "      <th>2</th>\n",
       "      <td>94.03</td>\n",
       "      <td>0.04006</td>\n",
       "      <td>0.02058</td>\n",
       "      <td>0.03832</td>\n",
       "      <td>0.004571</td>\n",
       "      <td>1203.0</td>\n",
       "      <td>0.15990</td>\n",
       "      <td>0.12790</td>\n",
       "      <td>0.1974</td>\n",
       "      <td>0.05999</td>\n",
       "      <td>...</td>\n",
       "      <td>0.4245</td>\n",
       "      <td>0.2430</td>\n",
       "      <td>0.4504</td>\n",
       "      <td>0.08758</td>\n",
       "      <td>152.50</td>\n",
       "      <td>23.57</td>\n",
       "      <td>0.1444</td>\n",
       "      <td>0.3613</td>\n",
       "      <td>25.53</td>\n",
       "      <td>malignant</td>\n",
       "    </tr>\n",
       "    <tr>\n",
       "      <th>3</th>\n",
       "      <td>27.23</td>\n",
       "      <td>0.07458</td>\n",
       "      <td>0.01867</td>\n",
       "      <td>0.05661</td>\n",
       "      <td>0.009208</td>\n",
       "      <td>386.1</td>\n",
       "      <td>0.28390</td>\n",
       "      <td>0.10520</td>\n",
       "      <td>0.2414</td>\n",
       "      <td>0.09744</td>\n",
       "      <td>...</td>\n",
       "      <td>0.8663</td>\n",
       "      <td>0.2575</td>\n",
       "      <td>0.6869</td>\n",
       "      <td>0.17300</td>\n",
       "      <td>98.87</td>\n",
       "      <td>14.91</td>\n",
       "      <td>0.2098</td>\n",
       "      <td>0.6638</td>\n",
       "      <td>26.50</td>\n",
       "      <td>malignant</td>\n",
       "    </tr>\n",
       "    <tr>\n",
       "      <th>4</th>\n",
       "      <td>94.44</td>\n",
       "      <td>0.02461</td>\n",
       "      <td>0.01885</td>\n",
       "      <td>0.05688</td>\n",
       "      <td>0.005115</td>\n",
       "      <td>1297.0</td>\n",
       "      <td>0.13280</td>\n",
       "      <td>0.10430</td>\n",
       "      <td>0.1980</td>\n",
       "      <td>0.05883</td>\n",
       "      <td>...</td>\n",
       "      <td>0.2050</td>\n",
       "      <td>0.1625</td>\n",
       "      <td>0.4000</td>\n",
       "      <td>0.07678</td>\n",
       "      <td>152.20</td>\n",
       "      <td>22.54</td>\n",
       "      <td>0.1374</td>\n",
       "      <td>0.2364</td>\n",
       "      <td>16.67</td>\n",
       "      <td>malignant</td>\n",
       "    </tr>\n",
       "  </tbody>\n",
       "</table>\n",
       "<p>5 rows × 31 columns</p>\n",
       "</div>"
      ],
      "text/plain": [
       "   area error  compactness error  concave points error  concavity error  \\\n",
       "0      153.40            0.04904               0.01587          0.05373   \n",
       "1       74.08            0.01308               0.01340          0.01860   \n",
       "2       94.03            0.04006               0.02058          0.03832   \n",
       "3       27.23            0.07458               0.01867          0.05661   \n",
       "4       94.44            0.02461               0.01885          0.05688   \n",
       "\n",
       "   fractal dimension error  mean area  mean compactness  mean concave points  \\\n",
       "0                 0.006193     1001.0           0.27760              0.14710   \n",
       "1                 0.003532     1326.0           0.07864              0.07017   \n",
       "2                 0.004571     1203.0           0.15990              0.12790   \n",
       "3                 0.009208      386.1           0.28390              0.10520   \n",
       "4                 0.005115     1297.0           0.13280              0.10430   \n",
       "\n",
       "   mean concavity  mean fractal dimension    ...      worst compactness  \\\n",
       "0          0.3001                 0.07871    ...                 0.6656   \n",
       "1          0.0869                 0.05667    ...                 0.1866   \n",
       "2          0.1974                 0.05999    ...                 0.4245   \n",
       "3          0.2414                 0.09744    ...                 0.8663   \n",
       "4          0.1980                 0.05883    ...                 0.2050   \n",
       "\n",
       "   worst concave points  worst concavity  worst fractal dimension  \\\n",
       "0                0.2654           0.7119                  0.11890   \n",
       "1                0.1860           0.2416                  0.08902   \n",
       "2                0.2430           0.4504                  0.08758   \n",
       "3                0.2575           0.6869                  0.17300   \n",
       "4                0.1625           0.4000                  0.07678   \n",
       "\n",
       "   worst perimeter  worst radius  worst smoothness  worst symmetry  \\\n",
       "0           184.60         25.38            0.1622          0.4601   \n",
       "1           158.80         24.99            0.1238          0.2750   \n",
       "2           152.50         23.57            0.1444          0.3613   \n",
       "3            98.87         14.91            0.2098          0.6638   \n",
       "4           152.20         22.54            0.1374          0.2364   \n",
       "\n",
       "   worst texture  diagnosis  \n",
       "0          17.33  malignant  \n",
       "1          23.41  malignant  \n",
       "2          25.53  malignant  \n",
       "3          26.50  malignant  \n",
       "4          16.67  malignant  \n",
       "\n",
       "[5 rows x 31 columns]"
      ]
     },
     "execution_count": 9,
     "metadata": {},
     "output_type": "execute_result"
    }
   ],
   "source": [
    "target_array = []\n",
    "for value in breast_cancer_dataset['target']:\n",
    "    target_array.append(breast_cancer_dataset['target_names'][value])\n",
    "\n",
    "df['diagnosis'] = target_array\n",
    "\n",
    "df.head()"
   ]
  },
  {
   "cell_type": "markdown",
   "metadata": {},
   "source": [
    "### To-Do 2\n",
    "\n",
    "Utilizando `pandas.DataFrame` para manipular o dataset, faça o que se pede:\n",
    "1. Informe a quantidade de exemplos existentes no dataset\n",
    "2. Enumere os atributos existentes no dataset\n",
    "3. Identifique o atributo-alvo e imprima-o\n",
    "4. O dataset é balanceado?\n",
    "5. Remova todos os atributos que contenham a palavra `error`"
   ]
  },
  {
   "cell_type": "code",
   "execution_count": 10,
   "metadata": {},
   "outputs": [
    {
     "data": {
      "text/plain": [
       "569"
      ]
     },
     "execution_count": 10,
     "metadata": {},
     "output_type": "execute_result"
    }
   ],
   "source": [
    "#1. \n",
    "len(df)"
   ]
  },
  {
   "cell_type": "code",
   "execution_count": 11,
   "metadata": {},
   "outputs": [
    {
     "data": {
      "text/plain": [
       "569"
      ]
     },
     "execution_count": 11,
     "metadata": {},
     "output_type": "execute_result"
    }
   ],
   "source": [
    "df.shape[0]"
   ]
  },
  {
   "cell_type": "code",
   "execution_count": 13,
   "metadata": {},
   "outputs": [
    {
     "data": {
      "text/plain": [
       "[(0, 'area error'),\n",
       " (1, 'compactness error'),\n",
       " (2, 'concave points error'),\n",
       " (3, 'concavity error'),\n",
       " (4, 'fractal dimension error'),\n",
       " (5, 'mean area'),\n",
       " (6, 'mean compactness'),\n",
       " (7, 'mean concave points'),\n",
       " (8, 'mean concavity'),\n",
       " (9, 'mean fractal dimension'),\n",
       " (10, 'mean perimeter'),\n",
       " (11, 'mean radius'),\n",
       " (12, 'mean smoothness'),\n",
       " (13, 'mean symmetry'),\n",
       " (14, 'mean texture'),\n",
       " (15, 'perimeter error'),\n",
       " (16, 'radius error'),\n",
       " (17, 'smoothness error'),\n",
       " (18, 'symmetry error'),\n",
       " (19, 'texture error'),\n",
       " (20, 'worst area'),\n",
       " (21, 'worst compactness'),\n",
       " (22, 'worst concave points'),\n",
       " (23, 'worst concavity'),\n",
       " (24, 'worst fractal dimension'),\n",
       " (25, 'worst perimeter'),\n",
       " (26, 'worst radius'),\n",
       " (27, 'worst smoothness'),\n",
       " (28, 'worst symmetry'),\n",
       " (29, 'worst texture'),\n",
       " (30, 'diagnosis')]"
      ]
     },
     "execution_count": 13,
     "metadata": {},
     "output_type": "execute_result"
    }
   ],
   "source": [
    "#2. \n",
    "list(enumerate(df.columns))"
   ]
  },
  {
   "cell_type": "code",
   "execution_count": 14,
   "metadata": {},
   "outputs": [
    {
     "data": {
      "text/plain": [
       "Index(['area error', 'compactness error', 'concave points error',\n",
       "       'concavity error', 'fractal dimension error', 'mean area',\n",
       "       'mean compactness', 'mean concave points', 'mean concavity',\n",
       "       'mean fractal dimension', 'mean perimeter', 'mean radius',\n",
       "       'mean smoothness', 'mean symmetry', 'mean texture', 'perimeter error',\n",
       "       'radius error', 'smoothness error', 'symmetry error', 'texture error',\n",
       "       'worst area', 'worst compactness', 'worst concave points',\n",
       "       'worst concavity', 'worst fractal dimension', 'worst perimeter',\n",
       "       'worst radius', 'worst smoothness', 'worst symmetry', 'worst texture',\n",
       "       'diagnosis'],\n",
       "      dtype='object')"
      ]
     },
     "execution_count": 14,
     "metadata": {},
     "output_type": "execute_result"
    }
   ],
   "source": [
    "df.columns"
   ]
  },
  {
   "cell_type": "code",
   "execution_count": 15,
   "metadata": {
    "scrolled": true
   },
   "outputs": [
    {
     "data": {
      "text/plain": [
       "0      malignant\n",
       "1      malignant\n",
       "2      malignant\n",
       "3      malignant\n",
       "4      malignant\n",
       "5      malignant\n",
       "6      malignant\n",
       "7      malignant\n",
       "8      malignant\n",
       "9      malignant\n",
       "10     malignant\n",
       "11     malignant\n",
       "12     malignant\n",
       "13     malignant\n",
       "14     malignant\n",
       "15     malignant\n",
       "16     malignant\n",
       "17     malignant\n",
       "18     malignant\n",
       "19        benign\n",
       "20        benign\n",
       "21        benign\n",
       "22     malignant\n",
       "23     malignant\n",
       "24     malignant\n",
       "25     malignant\n",
       "26     malignant\n",
       "27     malignant\n",
       "28     malignant\n",
       "29     malignant\n",
       "         ...    \n",
       "539       benign\n",
       "540       benign\n",
       "541       benign\n",
       "542       benign\n",
       "543       benign\n",
       "544       benign\n",
       "545       benign\n",
       "546       benign\n",
       "547       benign\n",
       "548       benign\n",
       "549       benign\n",
       "550       benign\n",
       "551       benign\n",
       "552       benign\n",
       "553       benign\n",
       "554       benign\n",
       "555       benign\n",
       "556       benign\n",
       "557       benign\n",
       "558       benign\n",
       "559       benign\n",
       "560       benign\n",
       "561       benign\n",
       "562    malignant\n",
       "563    malignant\n",
       "564    malignant\n",
       "565    malignant\n",
       "566    malignant\n",
       "567    malignant\n",
       "568       benign\n",
       "Name: diagnosis, Length: 569, dtype: object"
      ]
     },
     "execution_count": 15,
     "metadata": {},
     "output_type": "execute_result"
    }
   ],
   "source": [
    "df.diagnosis"
   ]
  },
  {
   "cell_type": "code",
   "execution_count": 16,
   "metadata": {},
   "outputs": [
    {
     "data": {
      "image/png": "[encoded data removed]",
      "text/plain": [
       "<matplotlib.figure.Figure at 0x20c91f2a2b0>"
      ]
     },
     "metadata": {},
     "output_type": "display_data"
    },
    {
     "name": "stdout",
     "output_type": "stream",
     "text": [
      "Não, o dataset possui uma quantidade de diagnósticos benignos aproximadamente 1.75 vezes superior a quantidade de diagnósticos malignos\n"
     ]
    }
   ],
   "source": [
    "#4. \n",
    "plt.bar('benign', len(df[df.diagnosis == 'benign']))\n",
    "plt.bar('malignant', len(df[df.diagnosis == 'malignant']))\n",
    "plt.show()\n",
    "print('Não, o dataset possui uma quantidade de diagnósticos benignos aproximadamente 1.75 vezes superior a quantidade de ' \\\n",
    "      'diagnósticos malignos')"
   ]
  },
  {
   "cell_type": "code",
   "execution_count": 18,
   "metadata": {},
   "outputs": [
    {
     "data": {
      "image/png": "[encoded data removed]",
      "text/plain": [
       "<matplotlib.figure.Figure at 0x20c96f8f7b8>"
      ]
     },
     "metadata": {},
     "output_type": "display_data"
    }
   ],
   "source": [
    "plt.bar('benign', df[df.diagnosis == 'benign'].shape[0], color='darkgray')\n",
    "plt.bar('malignant', df[df.diagnosis == 'malignant'].shape[0], color='gray')\n",
    "plt.show()"
   ]
  },
  {
   "cell_type": "code",
   "execution_count": 19,
   "metadata": {},
   "outputs": [
    {
     "data": {
      "text/html": [
       "<div>\n",
       "<style scoped>\n",
       "    .dataframe tbody tr th:only-of-type {\n",
       "        vertical-align: middle;\n",
       "    }\n",
       "\n",
       "    .dataframe tbody tr th {\n",
       "        vertical-align: top;\n",
       "    }\n",
       "\n",
       "    .dataframe thead th {\n",
       "        text-align: right;\n",
       "    }\n",
       "</style>\n",
       "<table border=\"1\" class=\"dataframe\">\n",
       "  <thead>\n",
       "    <tr style=\"text-align: right;\">\n",
       "      <th></th>\n",
       "      <th>mean area</th>\n",
       "      <th>mean compactness</th>\n",
       "      <th>mean concave points</th>\n",
       "      <th>mean concavity</th>\n",
       "      <th>mean fractal dimension</th>\n",
       "      <th>mean perimeter</th>\n",
       "      <th>mean radius</th>\n",
       "      <th>mean smoothness</th>\n",
       "      <th>mean symmetry</th>\n",
       "      <th>mean texture</th>\n",
       "      <th>...</th>\n",
       "      <th>worst compactness</th>\n",
       "      <th>worst concave points</th>\n",
       "      <th>worst concavity</th>\n",
       "      <th>worst fractal dimension</th>\n",
       "      <th>worst perimeter</th>\n",
       "      <th>worst radius</th>\n",
       "      <th>worst smoothness</th>\n",
       "      <th>worst symmetry</th>\n",
       "      <th>worst texture</th>\n",
       "      <th>diagnosis</th>\n",
       "    </tr>\n",
       "  </thead>\n",
       "  <tbody>\n",
       "    <tr>\n",
       "      <th>0</th>\n",
       "      <td>1001.0</td>\n",
       "      <td>0.27760</td>\n",
       "      <td>0.14710</td>\n",
       "      <td>0.3001</td>\n",
       "      <td>0.07871</td>\n",
       "      <td>122.80</td>\n",
       "      <td>17.99</td>\n",
       "      <td>0.11840</td>\n",
       "      <td>0.2419</td>\n",
       "      <td>10.38</td>\n",
       "      <td>...</td>\n",
       "      <td>0.6656</td>\n",
       "      <td>0.2654</td>\n",
       "      <td>0.7119</td>\n",
       "      <td>0.11890</td>\n",
       "      <td>184.60</td>\n",
       "      <td>25.38</td>\n",
       "      <td>0.1622</td>\n",
       "      <td>0.4601</td>\n",
       "      <td>17.33</td>\n",
       "      <td>malignant</td>\n",
       "    </tr>\n",
       "    <tr>\n",
       "      <th>1</th>\n",
       "      <td>1326.0</td>\n",
       "      <td>0.07864</td>\n",
       "      <td>0.07017</td>\n",
       "      <td>0.0869</td>\n",
       "      <td>0.05667</td>\n",
       "      <td>132.90</td>\n",
       "      <td>20.57</td>\n",
       "      <td>0.08474</td>\n",
       "      <td>0.1812</td>\n",
       "      <td>17.77</td>\n",
       "      <td>...</td>\n",
       "      <td>0.1866</td>\n",
       "      <td>0.1860</td>\n",
       "      <td>0.2416</td>\n",
       "      <td>0.08902</td>\n",
       "      <td>158.80</td>\n",
       "      <td>24.99</td>\n",
       "      <td>0.1238</td>\n",
       "      <td>0.2750</td>\n",
       "      <td>23.41</td>\n",
       "      <td>malignant</td>\n",
       "    </tr>\n",
       "    <tr>\n",
       "      <th>2</th>\n",
       "      <td>1203.0</td>\n",
       "      <td>0.15990</td>\n",
       "      <td>0.12790</td>\n",
       "      <td>0.1974</td>\n",
       "      <td>0.05999</td>\n",
       "      <td>130.00</td>\n",
       "      <td>19.69</td>\n",
       "      <td>0.10960</td>\n",
       "      <td>0.2069</td>\n",
       "      <td>21.25</td>\n",
       "      <td>...</td>\n",
       "      <td>0.4245</td>\n",
       "      <td>0.2430</td>\n",
       "      <td>0.4504</td>\n",
       "      <td>0.08758</td>\n",
       "      <td>152.50</td>\n",
       "      <td>23.57</td>\n",
       "      <td>0.1444</td>\n",
       "      <td>0.3613</td>\n",
       "      <td>25.53</td>\n",
       "      <td>malignant</td>\n",
       "    </tr>\n",
       "    <tr>\n",
       "      <th>3</th>\n",
       "      <td>386.1</td>\n",
       "      <td>0.28390</td>\n",
       "      <td>0.10520</td>\n",
       "      <td>0.2414</td>\n",
       "      <td>0.09744</td>\n",
       "      <td>77.58</td>\n",
       "      <td>11.42</td>\n",
       "      <td>0.14250</td>\n",
       "      <td>0.2597</td>\n",
       "      <td>20.38</td>\n",
       "      <td>...</td>\n",
       "      <td>0.8663</td>\n",
       "      <td>0.2575</td>\n",
       "      <td>0.6869</td>\n",
       "      <td>0.17300</td>\n",
       "      <td>98.87</td>\n",
       "      <td>14.91</td>\n",
       "      <td>0.2098</td>\n",
       "      <td>0.6638</td>\n",
       "      <td>26.50</td>\n",
       "      <td>malignant</td>\n",
       "    </tr>\n",
       "    <tr>\n",
       "      <th>4</th>\n",
       "      <td>1297.0</td>\n",
       "      <td>0.13280</td>\n",
       "      <td>0.10430</td>\n",
       "      <td>0.1980</td>\n",
       "      <td>0.05883</td>\n",
       "      <td>135.10</td>\n",
       "      <td>20.29</td>\n",
       "      <td>0.10030</td>\n",
       "      <td>0.1809</td>\n",
       "      <td>14.34</td>\n",
       "      <td>...</td>\n",
       "      <td>0.2050</td>\n",
       "      <td>0.1625</td>\n",
       "      <td>0.4000</td>\n",
       "      <td>0.07678</td>\n",
       "      <td>152.20</td>\n",
       "      <td>22.54</td>\n",
       "      <td>0.1374</td>\n",
       "      <td>0.2364</td>\n",
       "      <td>16.67</td>\n",
       "      <td>malignant</td>\n",
       "    </tr>\n",
       "  </tbody>\n",
       "</table>\n",
       "<p>5 rows × 21 columns</p>\n",
       "</div>"
      ],
      "text/plain": [
       "   mean area  mean compactness  mean concave points  mean concavity  \\\n",
       "0     1001.0           0.27760              0.14710          0.3001   \n",
       "1     1326.0           0.07864              0.07017          0.0869   \n",
       "2     1203.0           0.15990              0.12790          0.1974   \n",
       "3      386.1           0.28390              0.10520          0.2414   \n",
       "4     1297.0           0.13280              0.10430          0.1980   \n",
       "\n",
       "   mean fractal dimension  mean perimeter  mean radius  mean smoothness  \\\n",
       "0                 0.07871          122.80        17.99          0.11840   \n",
       "1                 0.05667          132.90        20.57          0.08474   \n",
       "2                 0.05999          130.00        19.69          0.10960   \n",
       "3                 0.09744           77.58        11.42          0.14250   \n",
       "4                 0.05883          135.10        20.29          0.10030   \n",
       "\n",
       "   mean symmetry  mean texture    ...      worst compactness  \\\n",
       "0         0.2419         10.38    ...                 0.6656   \n",
       "1         0.1812         17.77    ...                 0.1866   \n",
       "2         0.2069         21.25    ...                 0.4245   \n",
       "3         0.2597         20.38    ...                 0.8663   \n",
       "4         0.1809         14.34    ...                 0.2050   \n",
       "\n",
       "   worst concave points  worst concavity  worst fractal dimension  \\\n",
       "0                0.2654           0.7119                  0.11890   \n",
       "1                0.1860           0.2416                  0.08902   \n",
       "2                0.2430           0.4504                  0.08758   \n",
       "3                0.2575           0.6869                  0.17300   \n",
       "4                0.1625           0.4000                  0.07678   \n",
       "\n",
       "   worst perimeter  worst radius  worst smoothness  worst symmetry  \\\n",
       "0           184.60         25.38            0.1622          0.4601   \n",
       "1           158.80         24.99            0.1238          0.2750   \n",
       "2           152.50         23.57            0.1444          0.3613   \n",
       "3            98.87         14.91            0.2098          0.6638   \n",
       "4           152.20         22.54            0.1374          0.2364   \n",
       "\n",
       "   worst texture  diagnosis  \n",
       "0          17.33  malignant  \n",
       "1          23.41  malignant  \n",
       "2          25.53  malignant  \n",
       "3          26.50  malignant  \n",
       "4          16.67  malignant  \n",
       "\n",
       "[5 rows x 21 columns]"
      ]
     },
     "execution_count": 19,
     "metadata": {},
     "output_type": "execute_result"
    }
   ],
   "source": [
    "# versao manoel\n",
    "#5. \n",
    "df_without_error = df.copy()\n",
    "df_without_error = df[[column for column in df.columns if 'error' not in column]]\n",
    "df_without_error.head()"
   ]
  },
  {
   "cell_type": "code",
   "execution_count": 104,
   "metadata": {},
   "outputs": [
    {
     "data": {
      "text/html": [
       "<div>\n",
       "<style scoped>\n",
       "    .dataframe tbody tr th:only-of-type {\n",
       "        vertical-align: middle;\n",
       "    }\n",
       "\n",
       "    .dataframe tbody tr th {\n",
       "        vertical-align: top;\n",
       "    }\n",
       "\n",
       "    .dataframe thead th {\n",
       "        text-align: right;\n",
       "    }\n",
       "</style>\n",
       "<table border=\"1\" class=\"dataframe\">\n",
       "  <thead>\n",
       "    <tr style=\"text-align: right;\">\n",
       "      <th></th>\n",
       "      <th>mean area</th>\n",
       "      <th>mean compactness</th>\n",
       "      <th>mean concave points</th>\n",
       "      <th>mean concavity</th>\n",
       "      <th>mean fractal dimension</th>\n",
       "      <th>mean perimeter</th>\n",
       "      <th>mean radius</th>\n",
       "      <th>mean smoothness</th>\n",
       "      <th>mean symmetry</th>\n",
       "      <th>mean texture</th>\n",
       "      <th>...</th>\n",
       "      <th>worst compactness</th>\n",
       "      <th>worst concave points</th>\n",
       "      <th>worst concavity</th>\n",
       "      <th>worst fractal dimension</th>\n",
       "      <th>worst perimeter</th>\n",
       "      <th>worst radius</th>\n",
       "      <th>worst smoothness</th>\n",
       "      <th>worst symmetry</th>\n",
       "      <th>worst texture</th>\n",
       "      <th>target</th>\n",
       "    </tr>\n",
       "  </thead>\n",
       "  <tbody>\n",
       "    <tr>\n",
       "      <th>0</th>\n",
       "      <td>1001.0</td>\n",
       "      <td>0.27760</td>\n",
       "      <td>0.14710</td>\n",
       "      <td>0.3001</td>\n",
       "      <td>0.07871</td>\n",
       "      <td>122.80</td>\n",
       "      <td>17.99</td>\n",
       "      <td>0.11840</td>\n",
       "      <td>0.2419</td>\n",
       "      <td>10.38</td>\n",
       "      <td>...</td>\n",
       "      <td>0.6656</td>\n",
       "      <td>0.2654</td>\n",
       "      <td>0.7119</td>\n",
       "      <td>0.11890</td>\n",
       "      <td>184.60</td>\n",
       "      <td>25.38</td>\n",
       "      <td>0.1622</td>\n",
       "      <td>0.4601</td>\n",
       "      <td>17.33</td>\n",
       "      <td>malignant</td>\n",
       "    </tr>\n",
       "    <tr>\n",
       "      <th>1</th>\n",
       "      <td>1326.0</td>\n",
       "      <td>0.07864</td>\n",
       "      <td>0.07017</td>\n",
       "      <td>0.0869</td>\n",
       "      <td>0.05667</td>\n",
       "      <td>132.90</td>\n",
       "      <td>20.57</td>\n",
       "      <td>0.08474</td>\n",
       "      <td>0.1812</td>\n",
       "      <td>17.77</td>\n",
       "      <td>...</td>\n",
       "      <td>0.1866</td>\n",
       "      <td>0.1860</td>\n",
       "      <td>0.2416</td>\n",
       "      <td>0.08902</td>\n",
       "      <td>158.80</td>\n",
       "      <td>24.99</td>\n",
       "      <td>0.1238</td>\n",
       "      <td>0.2750</td>\n",
       "      <td>23.41</td>\n",
       "      <td>malignant</td>\n",
       "    </tr>\n",
       "    <tr>\n",
       "      <th>2</th>\n",
       "      <td>1203.0</td>\n",
       "      <td>0.15990</td>\n",
       "      <td>0.12790</td>\n",
       "      <td>0.1974</td>\n",
       "      <td>0.05999</td>\n",
       "      <td>130.00</td>\n",
       "      <td>19.69</td>\n",
       "      <td>0.10960</td>\n",
       "      <td>0.2069</td>\n",
       "      <td>21.25</td>\n",
       "      <td>...</td>\n",
       "      <td>0.4245</td>\n",
       "      <td>0.2430</td>\n",
       "      <td>0.4504</td>\n",
       "      <td>0.08758</td>\n",
       "      <td>152.50</td>\n",
       "      <td>23.57</td>\n",
       "      <td>0.1444</td>\n",
       "      <td>0.3613</td>\n",
       "      <td>25.53</td>\n",
       "      <td>malignant</td>\n",
       "    </tr>\n",
       "    <tr>\n",
       "      <th>3</th>\n",
       "      <td>386.1</td>\n",
       "      <td>0.28390</td>\n",
       "      <td>0.10520</td>\n",
       "      <td>0.2414</td>\n",
       "      <td>0.09744</td>\n",
       "      <td>77.58</td>\n",
       "      <td>11.42</td>\n",
       "      <td>0.14250</td>\n",
       "      <td>0.2597</td>\n",
       "      <td>20.38</td>\n",
       "      <td>...</td>\n",
       "      <td>0.8663</td>\n",
       "      <td>0.2575</td>\n",
       "      <td>0.6869</td>\n",
       "      <td>0.17300</td>\n",
       "      <td>98.87</td>\n",
       "      <td>14.91</td>\n",
       "      <td>0.2098</td>\n",
       "      <td>0.6638</td>\n",
       "      <td>26.50</td>\n",
       "      <td>malignant</td>\n",
       "    </tr>\n",
       "    <tr>\n",
       "      <th>4</th>\n",
       "      <td>1297.0</td>\n",
       "      <td>0.13280</td>\n",
       "      <td>0.10430</td>\n",
       "      <td>0.1980</td>\n",
       "      <td>0.05883</td>\n",
       "      <td>135.10</td>\n",
       "      <td>20.29</td>\n",
       "      <td>0.10030</td>\n",
       "      <td>0.1809</td>\n",
       "      <td>14.34</td>\n",
       "      <td>...</td>\n",
       "      <td>0.2050</td>\n",
       "      <td>0.1625</td>\n",
       "      <td>0.4000</td>\n",
       "      <td>0.07678</td>\n",
       "      <td>152.20</td>\n",
       "      <td>22.54</td>\n",
       "      <td>0.1374</td>\n",
       "      <td>0.2364</td>\n",
       "      <td>16.67</td>\n",
       "      <td>malignant</td>\n",
       "    </tr>\n",
       "  </tbody>\n",
       "</table>\n",
       "<p>5 rows × 21 columns</p>\n",
       "</div>"
      ],
      "text/plain": [
       "   mean area  mean compactness  mean concave points  mean concavity  \\\n",
       "0     1001.0           0.27760              0.14710          0.3001   \n",
       "1     1326.0           0.07864              0.07017          0.0869   \n",
       "2     1203.0           0.15990              0.12790          0.1974   \n",
       "3      386.1           0.28390              0.10520          0.2414   \n",
       "4     1297.0           0.13280              0.10430          0.1980   \n",
       "\n",
       "   mean fractal dimension  mean perimeter  mean radius  mean smoothness  \\\n",
       "0                 0.07871          122.80        17.99          0.11840   \n",
       "1                 0.05667          132.90        20.57          0.08474   \n",
       "2                 0.05999          130.00        19.69          0.10960   \n",
       "3                 0.09744           77.58        11.42          0.14250   \n",
       "4                 0.05883          135.10        20.29          0.10030   \n",
       "\n",
       "   mean symmetry  mean texture    ...      worst compactness  \\\n",
       "0         0.2419         10.38    ...                 0.6656   \n",
       "1         0.1812         17.77    ...                 0.1866   \n",
       "2         0.2069         21.25    ...                 0.4245   \n",
       "3         0.2597         20.38    ...                 0.8663   \n",
       "4         0.1809         14.34    ...                 0.2050   \n",
       "\n",
       "   worst concave points  worst concavity  worst fractal dimension  \\\n",
       "0                0.2654           0.7119                  0.11890   \n",
       "1                0.1860           0.2416                  0.08902   \n",
       "2                0.2430           0.4504                  0.08758   \n",
       "3                0.2575           0.6869                  0.17300   \n",
       "4                0.1625           0.4000                  0.07678   \n",
       "\n",
       "   worst perimeter  worst radius  worst smoothness  worst symmetry  \\\n",
       "0           184.60         25.38            0.1622          0.4601   \n",
       "1           158.80         24.99            0.1238          0.2750   \n",
       "2           152.50         23.57            0.1444          0.3613   \n",
       "3            98.87         14.91            0.2098          0.6638   \n",
       "4           152.20         22.54            0.1374          0.2364   \n",
       "\n",
       "   worst texture     target  \n",
       "0          17.33  malignant  \n",
       "1          23.41  malignant  \n",
       "2          25.53  malignant  \n",
       "3          26.50  malignant  \n",
       "4          16.67  malignant  \n",
       "\n",
       "[5 rows x 21 columns]"
      ]
     },
     "execution_count": 104,
     "metadata": {},
     "output_type": "execute_result"
    }
   ],
   "source": [
    "for column in df.columns:\n",
    "    if ('error' in column):\n",
    "        df = df.drop(column, axis=1)\n",
    "        \n",
    "df.head()"
   ]
  },
  {
   "cell_type": "markdown",
   "metadata": {},
   "source": [
    "### To-Do 3\n",
    "\n",
    "Faça uma partição randomizada do tipo 70/30 para conjunto de treinamento e de testes.\n",
    "Em ambos os conjuntos, separe o atributo-alvo.\n",
    "\n",
    "Para facilitar, siga a nomenclatura sugerida:\n",
    "* X_train: atributos preditores para o conjunto de treinamento\n",
    "* X_test: atributos preditores para o conjunto de testes\n",
    "* Y_train: atributo-alvo para os exemplos do conjunto de treinamento\n",
    "* Y_test: atributo-alvo para os exemplos do conjunto de testes\n",
    "\n",
    "Sugestão: [consultar a documentação do sci-kit learn](http://scikit-learn.org/stable/modules/generated/sklearn.model_selection.train_test_split.html#sklearn.model_selection.train_test_split)\n"
   ]
  },
  {
   "cell_type": "code",
   "execution_count": 31,
   "metadata": {},
   "outputs": [],
   "source": [
    "#versao manoel\n",
    "X = df_without_error.iloc[:,:-1]\n",
    "y = df_without_error.diagnosis\n",
    "\n",
    "X_train, X_test, Y_train, Y_test = train_test_split(X, y, test_size=0.3)"
   ]
  },
  {
   "cell_type": "code",
   "execution_count": 105,
   "metadata": {},
   "outputs": [],
   "source": [
    "X = df.iloc[:, 1:]\n",
    "y = df.iloc[:, 0]\n",
    "\n",
    "X_train, X_test, y_train, y_test = train_test_split(X, y, test_size=0.3)"
   ]
  },
  {
   "cell_type": "markdown",
   "metadata": {},
   "source": [
    "### To-Do 4\n",
    "\n",
    "Vamos usar os dados X_train e Y_train para treinar dois modelos diferentes de Aprendizagem de Máquina.\n",
    "1. Modelo 1: Vizinhos mais próximos, com k = 5\n",
    "2. Modelo 2: Centróides mais próximos, de acordo com a distância Euclidiana\n",
    "\n",
    "Basta completar o código a seguir"
   ]
  },
  {
   "cell_type": "code",
   "execution_count": 21,
   "metadata": {},
   "outputs": [],
   "source": [
    "from sklearn.neighbors import KNeighborsClassifier, NearestCentroid"
   ]
  },
  {
   "cell_type": "code",
   "execution_count": 32,
   "metadata": {},
   "outputs": [
    {
     "data": {
      "text/plain": [
       "NearestCentroid(metric='euclidean', shrink_threshold=None)"
      ]
     },
     "execution_count": 32,
     "metadata": {},
     "output_type": "execute_result"
    }
   ],
   "source": [
    "# Vizinhos mais próximos\n",
    "Modelo_1 = KNeighborsClassifier(n_neighbors=5)\n",
    "Modelo_1.fit(X_train, Y_train)\n",
    "\n",
    "# Centróides mais próximos\n",
    "Modelo_2 = NearestCentroid(metric='euclidean')\n",
    "Modelo_2.fit(X_train, Y_train)"
   ]
  },
  {
   "cell_type": "code",
   "execution_count": 115,
   "metadata": {},
   "outputs": [
    {
     "ename": "ValueError",
     "evalue": "could not convert string to float: 'benign'",
     "output_type": "error",
     "traceback": [
      "\u001b[1;31m---------------------------------------------------------------------------\u001b[0m",
      "\u001b[1;31mValueError\u001b[0m                                Traceback (most recent call last)",
      "\u001b[1;32m<ipython-input-115-1b405fe68d9c>\u001b[0m in \u001b[0;36m<module>\u001b[1;34m()\u001b[0m\n\u001b[0;32m      3\u001b[0m \u001b[1;31m# 5 - vizinhos mais próximos\u001b[0m\u001b[1;33m\u001b[0m\u001b[1;33m\u001b[0m\u001b[0m\n\u001b[0;32m      4\u001b[0m \u001b[0mknn\u001b[0m \u001b[1;33m=\u001b[0m \u001b[0mKNeighborsClassifier\u001b[0m\u001b[1;33m(\u001b[0m\u001b[0mn_neighbors\u001b[0m\u001b[1;33m=\u001b[0m\u001b[1;36m5\u001b[0m\u001b[1;33m)\u001b[0m\u001b[1;33m\u001b[0m\u001b[0m\n\u001b[1;32m----> 5\u001b[1;33m \u001b[0mknn\u001b[0m\u001b[1;33m.\u001b[0m\u001b[0mfit\u001b[0m\u001b[1;33m(\u001b[0m\u001b[0mX_train\u001b[0m\u001b[1;33m,\u001b[0m \u001b[0my_train\u001b[0m\u001b[1;33m)\u001b[0m\u001b[1;33m\u001b[0m\u001b[0m\n\u001b[0m\u001b[0;32m      6\u001b[0m \u001b[1;33m\u001b[0m\u001b[0m\n\u001b[0;32m      7\u001b[0m \u001b[1;31m# Kernel Density\u001b[0m\u001b[1;33m\u001b[0m\u001b[1;33m\u001b[0m\u001b[0m\n",
      "\u001b[1;32mC:\\ProgramData\\Anaconda3\\lib\\site-packages\\sklearn\\neighbors\\base.py\u001b[0m in \u001b[0;36mfit\u001b[1;34m(self, X, y)\u001b[0m\n\u001b[0;32m    763\u001b[0m         \"\"\"\n\u001b[0;32m    764\u001b[0m         \u001b[1;32mif\u001b[0m \u001b[1;32mnot\u001b[0m \u001b[0misinstance\u001b[0m\u001b[1;33m(\u001b[0m\u001b[0mX\u001b[0m\u001b[1;33m,\u001b[0m \u001b[1;33m(\u001b[0m\u001b[0mKDTree\u001b[0m\u001b[1;33m,\u001b[0m \u001b[0mBallTree\u001b[0m\u001b[1;33m)\u001b[0m\u001b[1;33m)\u001b[0m\u001b[1;33m:\u001b[0m\u001b[1;33m\u001b[0m\u001b[0m\n\u001b[1;32m--> 765\u001b[1;33m             \u001b[0mX\u001b[0m\u001b[1;33m,\u001b[0m \u001b[0my\u001b[0m \u001b[1;33m=\u001b[0m \u001b[0mcheck_X_y\u001b[0m\u001b[1;33m(\u001b[0m\u001b[0mX\u001b[0m\u001b[1;33m,\u001b[0m \u001b[0my\u001b[0m\u001b[1;33m,\u001b[0m \u001b[1;34m\"csr\"\u001b[0m\u001b[1;33m,\u001b[0m \u001b[0mmulti_output\u001b[0m\u001b[1;33m=\u001b[0m\u001b[1;32mTrue\u001b[0m\u001b[1;33m)\u001b[0m\u001b[1;33m\u001b[0m\u001b[0m\n\u001b[0m\u001b[0;32m    766\u001b[0m \u001b[1;33m\u001b[0m\u001b[0m\n\u001b[0;32m    767\u001b[0m         \u001b[1;32mif\u001b[0m \u001b[0my\u001b[0m\u001b[1;33m.\u001b[0m\u001b[0mndim\u001b[0m \u001b[1;33m==\u001b[0m \u001b[1;36m1\u001b[0m \u001b[1;32mor\u001b[0m \u001b[0my\u001b[0m\u001b[1;33m.\u001b[0m\u001b[0mndim\u001b[0m \u001b[1;33m==\u001b[0m \u001b[1;36m2\u001b[0m \u001b[1;32mand\u001b[0m \u001b[0my\u001b[0m\u001b[1;33m.\u001b[0m\u001b[0mshape\u001b[0m\u001b[1;33m[\u001b[0m\u001b[1;36m1\u001b[0m\u001b[1;33m]\u001b[0m \u001b[1;33m==\u001b[0m \u001b[1;36m1\u001b[0m\u001b[1;33m:\u001b[0m\u001b[1;33m\u001b[0m\u001b[0m\n",
      "\u001b[1;32mC:\\ProgramData\\Anaconda3\\lib\\site-packages\\sklearn\\utils\\validation.py\u001b[0m in \u001b[0;36mcheck_X_y\u001b[1;34m(X, y, accept_sparse, dtype, order, copy, force_all_finite, ensure_2d, allow_nd, multi_output, ensure_min_samples, ensure_min_features, y_numeric, warn_on_dtype, estimator)\u001b[0m\n\u001b[0;32m    571\u001b[0m     X = check_array(X, accept_sparse, dtype, order, copy, force_all_finite,\n\u001b[0;32m    572\u001b[0m                     \u001b[0mensure_2d\u001b[0m\u001b[1;33m,\u001b[0m \u001b[0mallow_nd\u001b[0m\u001b[1;33m,\u001b[0m \u001b[0mensure_min_samples\u001b[0m\u001b[1;33m,\u001b[0m\u001b[1;33m\u001b[0m\u001b[0m\n\u001b[1;32m--> 573\u001b[1;33m                     ensure_min_features, warn_on_dtype, estimator)\n\u001b[0m\u001b[0;32m    574\u001b[0m     \u001b[1;32mif\u001b[0m \u001b[0mmulti_output\u001b[0m\u001b[1;33m:\u001b[0m\u001b[1;33m\u001b[0m\u001b[0m\n\u001b[0;32m    575\u001b[0m         y = check_array(y, 'csr', force_all_finite=True, ensure_2d=False,\n",
      "\u001b[1;32mC:\\ProgramData\\Anaconda3\\lib\\site-packages\\sklearn\\utils\\validation.py\u001b[0m in \u001b[0;36mcheck_array\u001b[1;34m(array, accept_sparse, dtype, order, copy, force_all_finite, ensure_2d, allow_nd, ensure_min_samples, ensure_min_features, warn_on_dtype, estimator)\u001b[0m\n\u001b[0;32m    446\u001b[0m         \u001b[1;31m# make sure we actually converted to numeric:\u001b[0m\u001b[1;33m\u001b[0m\u001b[1;33m\u001b[0m\u001b[0m\n\u001b[0;32m    447\u001b[0m         \u001b[1;32mif\u001b[0m \u001b[0mdtype_numeric\u001b[0m \u001b[1;32mand\u001b[0m \u001b[0marray\u001b[0m\u001b[1;33m.\u001b[0m\u001b[0mdtype\u001b[0m\u001b[1;33m.\u001b[0m\u001b[0mkind\u001b[0m \u001b[1;33m==\u001b[0m \u001b[1;34m\"O\"\u001b[0m\u001b[1;33m:\u001b[0m\u001b[1;33m\u001b[0m\u001b[0m\n\u001b[1;32m--> 448\u001b[1;33m             \u001b[0marray\u001b[0m \u001b[1;33m=\u001b[0m \u001b[0marray\u001b[0m\u001b[1;33m.\u001b[0m\u001b[0mastype\u001b[0m\u001b[1;33m(\u001b[0m\u001b[0mnp\u001b[0m\u001b[1;33m.\u001b[0m\u001b[0mfloat64\u001b[0m\u001b[1;33m)\u001b[0m\u001b[1;33m\u001b[0m\u001b[0m\n\u001b[0m\u001b[0;32m    449\u001b[0m         \u001b[1;32mif\u001b[0m \u001b[1;32mnot\u001b[0m \u001b[0mallow_nd\u001b[0m \u001b[1;32mand\u001b[0m \u001b[0marray\u001b[0m\u001b[1;33m.\u001b[0m\u001b[0mndim\u001b[0m \u001b[1;33m>=\u001b[0m \u001b[1;36m3\u001b[0m\u001b[1;33m:\u001b[0m\u001b[1;33m\u001b[0m\u001b[0m\n\u001b[0;32m    450\u001b[0m             raise ValueError(\"Found array with dim %d. %s expected <= 2.\"\n",
      "\u001b[1;31mValueError\u001b[0m: could not convert string to float: 'benign'"
     ]
    }
   ],
   "source": [
    "# 5 - vizinhos mais próximos\n",
    "knn = KNeighborsClassifier(n_neighbors=5)\n",
    "knn.fit(X_train, y_train)\n",
    "\n",
    "# Kernel Density\n",
    "nc = NearestCentroid()\n",
    "nc.fit(X_train, y_train)"
   ]
  },
  {
   "cell_type": "markdown",
   "metadata": {},
   "source": [
    "### To-Do 5\n",
    "\n",
    "Utilizar o conjunto de treino para prever o conjunto de testes"
   ]
  },
  {
   "cell_type": "code",
   "execution_count": 33,
   "metadata": {},
   "outputs": [],
   "source": [
    "previsaoKNN = Modelo_1.predict(X_test)\n",
    "previsaoNC = Modelo_2.predict(X_test)"
   ]
  },
  {
   "cell_type": "markdown",
   "metadata": {},
   "source": [
    "### To-Do 6\n",
    "\n",
    "Analisando as diferenças e igualdades entre os vetores previsaokNN, previsaonc e Y_test, construa as matrizes de confusão dos respectivos modelos de Machine Learning. \n",
    "\n",
    "Consulte: [Documentação do sklearn para Matrizes de Confusão](http://scikit-learn.org/stable/modules/generated/sklearn.metrics.confusion_matrix.html)"
   ]
  },
  {
   "cell_type": "code",
   "execution_count": 34,
   "metadata": {},
   "outputs": [],
   "source": [
    "from sklearn.metrics import confusion_matrix"
   ]
  },
  {
   "cell_type": "code",
   "execution_count": 35,
   "metadata": {},
   "outputs": [
    {
     "name": "stdout",
     "output_type": "stream",
     "text": [
      "Matriz de confusão K-Vizinhos Mais Próximos\n",
      " [[111   7]\n",
      " [  9  44]]\n",
      "Matriz de confusão Centróides Mais Próximos\n",
      " [[116   2]\n",
      " [ 17  36]]\n"
     ]
    }
   ],
   "source": [
    "cm_KNN = confusion_matrix(y_pred=previsaoKNN, y_true=Y_test)\n",
    "cm_NC = confusion_matrix(y_pred=previsaoNC, y_true=Y_test)\n",
    "\n",
    "print('Matriz de confusão K-Vizinhos Mais Próximos\\n', cm_KNN)\n",
    "print('Matriz de confusão Centróides Mais Próximos\\n',cm_NC)"
   ]
  },
  {
   "cell_type": "markdown",
   "metadata": {},
   "source": [
    "### To-Do 7\n",
    "\n",
    "Para cada um dos modelos, apresente:\n",
    "\n",
    "1. Acurácia\n",
    "2. Precisão\n",
    "3. Revocação\n",
    "4. F-Score (Leve em consideração se o dataset é balanceado ou não)\n",
    "\n",
    "Consulte: [Documentação do sklearn para Métricas de Desempenho](http://scikit-learn.org/stable/modules/classes.html#module-sklearn.metrics)"
   ]
  },
  {
   "cell_type": "code",
   "execution_count": 36,
   "metadata": {},
   "outputs": [],
   "source": [
    "from sklearn import metrics"
   ]
  },
  {
   "cell_type": "code",
   "execution_count": 37,
   "metadata": {},
   "outputs": [
    {
     "name": "stdout",
     "output_type": "stream",
     "text": [
      "Métricas KNN:\n",
      "\n",
      "Acurácia: 0.9064\n",
      "\n",
      "Relatório de Classificação\n",
      "             precision    recall  f1-score   support\n",
      "\n",
      "  malignant       0.86      0.83      0.85        53\n",
      "     benign       0.93      0.94      0.93       118\n",
      "\n",
      "avg / total       0.91      0.91      0.91       171\n",
      "\n"
     ]
    }
   ],
   "source": [
    "#Versão 1.\n",
    "print(\"Métricas KNN:\\n\")\n",
    "print(\"Acurácia: {0:.4f}\".format(metrics.accuracy_score(Y_test, previsaoKNN)))\n",
    "print()\n",
    "print(\"Relatório de Classificação\")\n",
    "print(metrics.classification_report(Y_test, previsaoKNN, labels = ['malignant', 'benign']))"
   ]
  },
  {
   "cell_type": "code",
   "execution_count": 38,
   "metadata": {},
   "outputs": [
    {
     "name": "stdout",
     "output_type": "stream",
     "text": [
      "Métricas NC:\n",
      "\n",
      "Acurácia: 0.8889\n",
      "\n",
      "Relatório de Classificação\n",
      "             precision    recall  f1-score   support\n",
      "\n",
      "  malignant       0.95      0.68      0.79        53\n",
      "     benign       0.87      0.98      0.92       118\n",
      "\n",
      "avg / total       0.90      0.89      0.88       171\n",
      "\n"
     ]
    }
   ],
   "source": [
    "#Versão 1.\n",
    "print(\"Métricas NC:\\n\")\n",
    "print(\"Acurácia: {0:.4f}\".format(metrics.accuracy_score(Y_test, previsaoNC)))\n",
    "print()\n",
    "print(\"Relatório de Classificação\")\n",
    "print(metrics.classification_report(Y_test, previsaoNC, labels = ['malignant', 'benign']))"
   ]
  },
  {
   "cell_type": "code",
   "execution_count": 39,
   "metadata": {},
   "outputs": [
    {
     "name": "stdout",
     "output_type": "stream",
     "text": [
      "Métricas KNN:\n",
      "\n",
      "Acurácia: 0.9064\n",
      "Precisão: 0.9250\n",
      "Sensitividade: 0.9407\n",
      "Especificidade: 0.8302\n",
      "F1_Score: 0.9059\n"
     ]
    }
   ],
   "source": [
    "#Versão 2.\n",
    "print('Métricas KNN:\\n')\n",
    "print('Acurácia: {0:.4f}'.format(metrics.accuracy_score(Y_test, previsaoKNN)))\n",
    "print('Precisão: {0:.4f}'.format(metrics.precision_score(Y_test, previsaoKNN, pos_label='benign')))\n",
    "print('Sensitividade: {0:.4f}'.format(metrics.recall_score(Y_test, previsaoKNN, pos_label='benign')))\n",
    "print('Especificidade: {0:.4f}'.format(metrics.recall_score(Y_test, previsaoKNN, pos_label='malignant')))\n",
    "print('F1_Score: {0:.4f}'.format(metrics.f1_score(Y_test, previsaoKNN, average='weighted')))"
   ]
  },
  {
   "cell_type": "code",
   "execution_count": 40,
   "metadata": {},
   "outputs": [
    {
     "name": "stdout",
     "output_type": "stream",
     "text": [
      "Métricas NC:\n",
      "\n",
      "Acurácia: 0.8889\n",
      "Precisão: 0.8722\n",
      "Sensitividade: 0.9831\n",
      "Especificidade: 0.6792\n",
      "F1_Score: 0.8831\n"
     ]
    }
   ],
   "source": [
    "#Versão 2\n",
    "print('Métricas NC:\\n')\n",
    "print('Acurácia: {0:.4f}'.format(metrics.accuracy_score(Y_test, previsaoNC)))\n",
    "print('Precisão: {0:.4f}'.format(metrics.precision_score(Y_test, previsaoNC, pos_label='benign')))\n",
    "print('Sensitividade: {0:.4f}'.format(metrics.recall_score(Y_test, previsaoNC, pos_label='benign')))\n",
    "print('Especificidade: {0:.4f}'.format(metrics.recall_score(Y_test, previsaoNC, pos_label='malignant')))\n",
    "print('F1_Score: {0:.4f}'.format(metrics.f1_score(Y_test, previsaoNC, average='weighted')))"
   ]
  },
  {
   "cell_type": "markdown",
   "metadata": {},
   "source": [
    "### To-Do 8\n",
    "\n",
    "Utilizando argumentos textuais, justifique qual dos modelos apresentados é melhor para o problema em questão."
   ]
  },
  {
   "cell_type": "markdown",
   "metadata": {},
   "source": [
    "No geral as métricas de desempenho apresentadas pelo K-Vizinhos Mais Próximos superam as Centróides Mais Próximos, com exceção da Revocação(Sensitividade), no entanto vendo a métrica Revocação por seus dois lados (Sensitividade/Especificidade), podemos ver que o modelo de Centróides Mais Próximos apresenta uma Especificidade relativamente baixa, o que expõe que o modelo está tendendo a classificar como \"Benigno\", o que pode trazer problemas caso o mesmo foi posto em produção, pois iria apresentar uma relativa alta possibilidade de dizer que o paciente está saudável quando na verdade não está.\n",
    "\n",
    "Assim, considerando o Problema de Erro Tipo I (Falso Positivo) como o mais perigoso levando em consideração a matriz de confusão apresentada anteriormente, o melhor algoritmo seria o Modelo 1 (K-Vizinhos Mais Próximos)."
   ]
  }
 ],
 "metadata": {
  "kernelspec": {
   "display_name": "Python 3",
   "language": "python",
   "name": "python3"
  },
  "language_info": {
   "codemirror_mode": {
    "name": "ipython",
    "version": 3
   },
   "file_extension": ".py",
   "mimetype": "text/x-python",
   "name": "python",
   "nbconvert_exporter": "python",
   "pygments_lexer": "ipython3",
   "version": "3.6.3"
  }
 },
 "nbformat": 4,
 "nbformat_minor": 2
}
