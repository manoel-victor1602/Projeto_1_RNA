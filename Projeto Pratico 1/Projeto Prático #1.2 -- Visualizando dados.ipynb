{
 "cells": [
  {
   "cell_type": "markdown",
   "metadata": {},
   "source": [
    "# Projeto Prático 1.2 -- Visualizando Dados\n",
    "\n",
    "O projeto prático 1.2 da disciplina de Redes Neurais Artificiais tem como ideia geral seguir o passo a passo das atividades solicitadas para aprender a utilizar as bibliotecas Python para praticar os conceitos de visualização de dados discutidos ao longo dessas primeiras aulas.\n",
    "\n",
    "Na avaliação será levado em conta:\n",
    "1. Corretude das tarefas solicitadas\n",
    "2. Qualidade e boas práticas de codificação\n",
    "3. Qualidade dos gráficos\n",
    "\n",
    "\n",
    "Preecha aqui os integrantes da dupla e suas respectivas matrículas (duplo clique para editar):\n",
    "- Manoel Victor Florencio de Souza\n",
    "- Sérgio Alexandre Arruda Pinheiro\n",
    "\n",
    "## Apresentação da Atividade\n",
    "\n",
    "Continuaremos utilizando o dataset 'autompg.csv' e vamos concentrar o uso na biblioteca matplotlib.pyplot, cuja documentação pode ser encontrada aqui: https://matplotlib.org/"
   ]
  },
  {
   "cell_type": "code",
   "execution_count": null,
   "metadata": {},
   "outputs": [],
   "source": [
    "## Reservado para imports\n",
    "%pylab inline\n",
    "import pandas as pd\n",
    "import numpy as np\n",
    "import matplotlib.pyplot as plt\n",
    "import seaborn as sns"
   ]
  },
  {
   "cell_type": "code",
   "execution_count": null,
   "metadata": {},
   "outputs": [],
   "source": [
    "df = pd.read_csv('autompg.csv', ';')\n",
    "df = df.dropna()\n",
    "df.head(10)"
   ]
  },
  {
   "cell_type": "markdown",
   "metadata": {},
   "source": [
    "## Atividade 7 -- Histograma\n",
    "\n",
    "Construa o histograma do atributo alvo mpg utilizando bins de tamanho 1. O seu histograma deve ser intitulado 'Consumo', o eixo 'y' deve apresentar a unidade de medida 'milhas por galão'. O eixo x deve ser rotulado com os valores associados aos bins. A cor do gráfico deve ser em tons de cinza."
   ]
  },
  {
   "cell_type": "code",
   "execution_count": null,
   "metadata": {
    "collapsed": true
   },
   "outputs": [],
   "source": [
    "font = {'family' : 'DejaVu Sans',\n",
    "        'weight' : 'bold',\n",
    "        'size'   : 18}\n",
    "\n",
    "matplotlib.rc('font', **font)\n",
    "\n",
    "plt.rc('axes', titlesize=16)\n",
    "plt.rc('axes', labelsize=16)"
   ]
  },
  {
   "cell_type": "code",
   "execution_count": null,
   "metadata": {},
   "outputs": [],
   "source": [
    "n_bins = int(df.mpg.max() - df.mpg.min())\n",
    "plt.figure(figsize=(15,10))\n",
    "df.mpg.hist(bins=n_bins, color='Gray', edgecolor='Black')\n",
    "plt.xticks(np.arange(9,48))\n",
    "plt.title('Consumo')\n",
    "plt.ylabel('Milhas por Galão')"
   ]
  },
  {
   "cell_type": "markdown",
   "metadata": {},
   "source": [
    "## Atividade 8 -- Boxplot\n",
    "\n",
    "1. Obtenha o boxplot do atributo alvo mpg\n",
    "2. Obtenha o boxplot do peso dos carros\n",
    "3. Responda: o peso dos carros distribuído de maneira simétrica?"
   ]
  },
  {
   "cell_type": "code",
   "execution_count": null,
   "metadata": {},
   "outputs": [],
   "source": [
    "plt.figure(figsize=(15,10))\n",
    "plt.boxplot(df.mpg)\n",
    "plt.ylabel('Milhas por Galão')"
   ]
  },
  {
   "cell_type": "code",
   "execution_count": null,
   "metadata": {},
   "outputs": [],
   "source": [
    "plt.figure(figsize=(15,10))\n",
    "plt.boxplot(df.weight)\n",
    "plt.ylabel('Peso')"
   ]
  },
  {
   "cell_type": "markdown",
   "metadata": {},
   "source": [
    "Ao avaliar que boxplot acima, é possível verificar que os pesos dos carro não estão distribuidos de maneira simétrica e sim com uma concentração maior nos pesos mais leves."
   ]
  },
  {
   "cell_type": "markdown",
   "metadata": {},
   "source": [
    "## Atividade 9 -- Heat Map\n",
    "\n",
    "Produza um mapa de calor dos atributos 'mpg' e 'cylinders'\n"
   ]
  },
  {
   "cell_type": "code",
   "execution_count": null,
   "metadata": {
    "collapsed": true
   },
   "outputs": [],
   "source": []
  },
  {
   "cell_type": "markdown",
   "metadata": {},
   "source": [
    "## Atividade 10 -- Scatter Plot\n",
    "\n",
    "Produza um scatterplot dos atributos 'weight' e 'mpg'"
   ]
  },
  {
   "cell_type": "code",
   "execution_count": null,
   "metadata": {},
   "outputs": [],
   "source": [
    "plt.figure(figsize=(15,10))\n",
    "plt.scatter(df.weight, df.mpg, color='gray')\n",
    "plt.title('Consumo x Peso')\n",
    "plt.ylabel('Milhas por Galão')\n",
    "plt.xlabel('Peso')"
   ]
  },
  {
   "cell_type": "markdown",
   "metadata": {},
   "source": [
    "## Atividade 11 -- Boxplot categorizado\n",
    "\n",
    "1. Construa boxplots do atributo 'mpg' categorizados por ano, isto é, uma única figura contendo vários boxplots do consumo dos veículos agrupados segundo o ano.\n",
    "2. É possível observar uma tendência de aumento de eficiência (maior mpg) com o passar dos anos?"
   ]
  },
  {
   "cell_type": "code",
   "execution_count": null,
   "metadata": {
    "scrolled": false
   },
   "outputs": [],
   "source": [
    "sns.set(rc={'figure.figsize':(15,10), 'axes.labelsize':18, \n",
    "            'xtick.labelsize': 14, 'ytick.labelsize': 14})\n",
    "\n",
    "ax = sns.boxplot(x=\"modelyear\", y=\"mpg\", data=df, width=0.5)\n",
    "ax.set(xlabel='Ano Modelo', ylabel='Milhas por Galão')\n",
    "\n",
    "for patch in ax.artists: patch.set_facecolor((0,0,0,0)) "
   ]
  },
  {
   "cell_type": "markdown",
   "metadata": {},
   "source": [
    "Ao observar a imagem acima, é possível verificar que houve um aumento de eficiência no consumo, visto que os boxplots de anos mais antigos estão posicionados abaixo dos boxplots de anos mais novos na escala de consumo. "
   ]
  }
 ],
 "metadata": {
  "kernelspec": {
   "display_name": "Python 3",
   "language": "python",
   "name": "python3"
  },
  "language_info": {
   "codemirror_mode": {
    "name": "ipython",
    "version": 3
   },
   "file_extension": ".py",
   "mimetype": "text/x-python",
   "name": "python",
   "nbconvert_exporter": "python",
   "pygments_lexer": "ipython3",
   "version": "3.6.6"
  }
 },
 "nbformat": 4,
 "nbformat_minor": 2
}
