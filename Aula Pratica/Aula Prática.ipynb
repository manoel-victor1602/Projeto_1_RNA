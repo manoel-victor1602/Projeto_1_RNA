{
 "cells": [
  {
   "cell_type": "code",
   "execution_count": 1,
   "metadata": {},
   "outputs": [],
   "source": [
    "from sklearn import datasets\n",
    "from sklearn.model_selection import train_test_split\n",
    "from sklearn.neural_network import MLPClassifier\n",
    "from sklearn.metrics import f1_score, confusion_matrix, accuracy_score\n",
    "import numpy as np\n",
    "import matplotlib.pyplot as plt"
   ]
  },
  {
   "cell_type": "code",
   "execution_count": 2,
   "metadata": {},
   "outputs": [],
   "source": [
    "df = datasets.load_iris()"
   ]
  },
  {
   "cell_type": "code",
   "execution_count": 3,
   "metadata": {},
   "outputs": [],
   "source": [
    "X = df.data\n",
    "y = df.target"
   ]
  },
  {
   "cell_type": "code",
   "execution_count": 4,
   "metadata": {},
   "outputs": [],
   "source": [
    "X_train, X_test, y_train, y_test = train_test_split(X, y, test_size=0.2)"
   ]
  },
  {
   "cell_type": "code",
   "execution_count": 5,
   "metadata": {},
   "outputs": [],
   "source": [
    "def createMLP(hidden_layer_sizes=(1,), learning_rate=1, batch_size=1, activation='relu', max_iter=50):\n",
    "    model = MLPClassifier(hidden_layer_sizes=hidden_layer_sizes, \n",
    "                         learning_rate_init=learning_rate,\n",
    "                         batch_size=batch_size,\n",
    "                         activation=activation,\n",
    "                         max_iter=max_iter\n",
    "            )\n",
    "    return model"
   ]
  },
  {
   "cell_type": "code",
   "execution_count": 6,
   "metadata": {},
   "outputs": [],
   "source": [
    "pars =  [[(5,), 0.001, 1, 'logistic', 30],\n",
    "        [(8,), 0.005, 1, 'relu', 25],\n",
    "        [(4,), 0.001, 1, 'relu', 50],\n",
    "        [(7,2), 0.005, 1, 'logistic', 10],\n",
    "        [(8,2), 0.001, 1, 'relu', 40],\n",
    "        [(3,3), 0.005, 1, 'logistic', 30]]"
   ]
  },
  {
   "cell_type": "code",
   "execution_count": 7,
   "metadata": {},
   "outputs": [],
   "source": [
    "f_scores = []\n",
    "cms = []\n",
    "accs = []"
   ]
  },
  {
   "cell_type": "code",
   "execution_count": 8,
   "metadata": {},
   "outputs": [
    {
     "name": "stderr",
     "output_type": "stream",
     "text": [
      "C:\\Users\\Inventario-LSE\\Anaconda3\\lib\\site-packages\\sklearn\\neural_network\\multilayer_perceptron.py:563: ConvergenceWarning: Stochastic Optimizer: Maximum iterations reached and the optimization hasn't converged yet.\n",
      "  % (), ConvergenceWarning)\n",
      "C:\\Users\\Inventario-LSE\\Anaconda3\\lib\\site-packages\\sklearn\\metrics\\classification.py:1113: UndefinedMetricWarning: F-score is ill-defined and being set to 0.0 in labels with no predicted samples.\n",
      "  'precision', 'predicted', average, warn_for)\n"
     ]
    }
   ],
   "source": [
    "for params in pars:\n",
    "    model = createMLP(*params)\n",
    "    model.fit(X_train, y_train)\n",
    "    y_pred = model.predict(X_test)\n",
    "    f_scores.append(f1_score(y_true=y_test, y_pred=y_pred, average='macro'))\n",
    "    cms.append(confusion_matrix(y_true=y_test, y_pred=y_pred))\n",
    "    accs.append(accuracy_score(y_true=y_test, y_pred=y_pred))"
   ]
  },
  {
   "cell_type": "code",
   "execution_count": 9,
   "metadata": {},
   "outputs": [
    {
     "name": "stdout",
     "output_type": "stream",
     "text": [
      "[[10  0  0]\n",
      " [ 0  6  0]\n",
      " [ 0  0 14]]\n"
     ]
    }
   ],
   "source": [
    "better_f1_score_index = f_scores.index(max(f_scores))\n",
    "print(cms[better_f1_score_index])"
   ]
  },
  {
   "cell_type": "code",
   "execution_count": 11,
   "metadata": {},
   "outputs": [
    {
     "name": "stdout",
     "output_type": "stream",
     "text": [
      "0.7520227920227921\n",
      "0.768888888888889\n"
     ]
    }
   ],
   "source": [
    "print(np.mean(f_scores))\n",
    "print(np.median(f_scores))"
   ]
  },
  {
   "cell_type": "code",
   "execution_count": 17,
   "metadata": {},
   "outputs": [
    {
     "data": {
      "image/png": "[encoded data removed]",
      "text/plain": [
       "<Figure size 432x288 with 1 Axes>"
      ]
     },
     "metadata": {},
     "output_type": "display_data"
    }
   ],
   "source": [
    "plt.bar(range(1,7), f_scores)\n",
    "plt.plot([1,6], [np.mean(f_scores)] * 2, color='orange')\n",
    "plt.show()"
   ]
  },
  {
   "cell_type": "markdown",
   "metadata": {},
   "source": [
    "Não, A RNA 5 possui 10 neurônios ocultos e não apresenta o melhor resultado entre as redes, neste caso em especial, foi a que obteve o pior resultado junto a RNA 4."
   ]
  },
  {
   "cell_type": "code",
   "execution_count": 13,
   "metadata": {},
   "outputs": [
    {
     "name": "stdout",
     "output_type": "stream",
     "text": [
      "0.845925925925926\n",
      "0.6581196581196581\n"
     ]
    }
   ],
   "source": [
    "print(np.mean(f_scores[:3]))\n",
    "print(np.mean(f_scores[3:]))"
   ]
  },
  {
   "cell_type": "markdown",
   "metadata": {},
   "source": [
    "As RNAs com 1 camada oculta obtiveram um resultado médio superior as RNAs com 2 camadas ocultas.\n",
    "\n",
    "Não, apesar de que neste exemplo as RNAs com 1 camada obtiveram um resultado melhor que as RNAs com 2 camadas, não representa o conjunto total de problemas que o modelo pode resolver, talvez com um número diferente de neurônios nas RNAs com 2 camadas ou com um número maior de épocas, elas apresentem um f1_score médio igual ou superior as redes com 1 camada, visto que a RNA 6 obteve junto as RNAs 2 e 3 um f1_score de 1. "
   ]
  }
 ],
 "metadata": {
  "kernelspec": {
   "display_name": "Python 3",
   "language": "python",
   "name": "python3"
  },
  "language_info": {
   "codemirror_mode": {
    "name": "ipython",
    "version": 3
   },
   "file_extension": ".py",
   "mimetype": "text/x-python",
   "name": "python",
   "nbconvert_exporter": "python",
   "pygments_lexer": "ipython3",
   "version": "3.6.5"
  }
 },
 "nbformat": 4,
 "nbformat_minor": 2
}
