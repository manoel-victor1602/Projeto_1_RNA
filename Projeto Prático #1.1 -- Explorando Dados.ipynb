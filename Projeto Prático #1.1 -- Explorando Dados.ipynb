{
 "cells": [
  {
   "cell_type": "markdown",
   "metadata": {},
   "source": [
    "# Projeto Prático 1.1 -- Explorando Dados\n",
    "\n",
    "O projeto prático 1.1 da disciplina de Redes Neurais Artificiais deve ser desenvolvido em duplas justas. A ideia geral é seguir o passo a passo das atividades solicitadas para aprender a utilizar as bibliotecas Python para praticar os conceitos de exploração de dados vistos ao longo dessas primeiras aulas.\n",
    "\n",
    "Na avaliação será levado em conta:\n",
    "1. Corretude das tarefas solicitadas\n",
    "2. Qualidade e boas práticas de codificação\n",
    "3. Eficiência na manipulação dos dados\n",
    "\n",
    "\n",
    "Preecha aqui os integrantes da dupla e suas respectivas matrículas (duplo clique para editar):\n",
    "- Manoel Victor Florencio de Souza\n",
    "- Sérgio Alexandre Arruda Pinheiro\n",
    "\n",
    "## Apresentação da Atividade\n",
    "\n",
    "Vamos aprender um pouco mais sobre carros! Para tanto, vamos utilizar o [dataset AutoMPG](https://archive.ics.uci.edu/ml/datasets/auto+mpg), que contém informações de veículos do ano de 1983 apresentados em uma exposição nos EUA. O atributo alvo chama-se mpg, denotando milhas por galão, uma unidade de medida equivalente ao nosso quilômetro por litro."
   ]
  },
  {
   "cell_type": "code",
   "execution_count": null,
   "metadata": {
    "collapsed": true
   },
   "outputs": [],
   "source": [
    "# Célula reservada para importar bibliotecas\n",
    "import pandas as pd\n",
    "import numpy as np\n",
    "\n",
    "from sklearn.model_selection import train_test_split"
   ]
  },
  {
   "cell_type": "markdown",
   "metadata": {},
   "source": [
    "## Tarefa 1: Abrir o dataset\n",
    "\n",
    "1. Baixe o arquivo 'autompg.csv' do Google Classroom e o abra com a biblioteca pandas\n",
    "2. Imprima o cabeçalho do dataset\n",
    "3. Imprima os tipos de dados no dataset"
   ]
  },
  {
   "cell_type": "code",
   "execution_count": null,
   "metadata": {
    "collapsed": true
   },
   "outputs": [],
   "source": [
    "df = pd.read_csv('autompg.csv', ';')"
   ]
  },
  {
   "cell_type": "code",
   "execution_count": null,
   "metadata": {},
   "outputs": [],
   "source": [
    "df.head()"
   ]
  },
  {
   "cell_type": "code",
   "execution_count": null,
   "metadata": {},
   "outputs": [],
   "source": [
    "df.dtypes"
   ]
  },
  {
   "cell_type": "markdown",
   "metadata": {},
   "source": [
    "## Tarefa 2: Conhecendo e limpando os dados\n",
    "\n",
    "1. Imprima os nomes das colunas do datase\n",
    "2. Quantos exemplos o dataset possui?\n",
    "3. Quantos exemplos com dados faltantes o dataset possui?\n",
    "4. Efetue a limpeza do dataset excluindo todos os exemplos em que há alguma informação faltando. Daqui em diante, considere essa versão do dataset."
   ]
  },
  {
   "cell_type": "code",
   "execution_count": null,
   "metadata": {},
   "outputs": [],
   "source": [
    "for column in df.columns: print (column)"
   ]
  },
  {
   "cell_type": "code",
   "execution_count": null,
   "metadata": {},
   "outputs": [],
   "source": [
    "df.shape[0]"
   ]
  },
  {
   "cell_type": "code",
   "execution_count": null,
   "metadata": {},
   "outputs": [],
   "source": [
    "null_rows = df.isnull().any(axis=1)\n",
    "null_rows.sum()"
   ]
  },
  {
   "cell_type": "code",
   "execution_count": null,
   "metadata": {
    "scrolled": true
   },
   "outputs": [],
   "source": [
    "df = df.dropna()\n",
    "df.head()"
   ]
  },
  {
   "cell_type": "markdown",
   "metadata": {},
   "source": [
    "## Tarefa 3: Consulta aos dados\n",
    "\n",
    "1. Calcule a média do atributo alvo mpg\n",
    "2. Imprima o nome dos carros cujo consumo (mpg) é maior que a média\n",
    "3. Qual o carro mais eficiente (maior mpg)?\n",
    "4. Quantos carros foram fabricados após 1977?\n",
    "5. Qual a cilindrada média dos carros fabricados entre 1980 e 1982?\n",
    "6. Há quantos carros da marca Chevrolet no dataset? Imprima todas as características dos mesmos."
   ]
  },
  {
   "cell_type": "code",
   "execution_count": null,
   "metadata": {},
   "outputs": [],
   "source": [
    "mpg_mean = df.mpg.mean()\n",
    "mpg_mean"
   ]
  },
  {
   "cell_type": "code",
   "execution_count": null,
   "metadata": {},
   "outputs": [],
   "source": [
    "df[df.mpg > mpg_mean].name"
   ]
  },
  {
   "cell_type": "code",
   "execution_count": null,
   "metadata": {},
   "outputs": [],
   "source": [
    "df[df.mpg.max() == df.mpg].name"
   ]
  },
  {
   "cell_type": "code",
   "execution_count": null,
   "metadata": {},
   "outputs": [],
   "source": [
    "df[df.modelyear > 77].shape[0]"
   ]
  },
  {
   "cell_type": "code",
   "execution_count": null,
   "metadata": {},
   "outputs": [],
   "source": [
    "df_80_82 = df[(df.modelyear >= 80) & (df.modelyear <= 82)]\n",
    "df_80_82.cylinders.mean()"
   ]
  },
  {
   "cell_type": "code",
   "execution_count": null,
   "metadata": {
    "collapsed": true
   },
   "outputs": [],
   "source": [
    "def find_brand(name, marca):\n",
    "    if(marca in name):\n",
    "        return True\n",
    "    return False"
   ]
  },
  {
   "cell_type": "code",
   "execution_count": null,
   "metadata": {},
   "outputs": [],
   "source": [
    "df[df.name.apply(find_brand, args=['chevrolet'])].head(10)"
   ]
  },
  {
   "cell_type": "markdown",
   "metadata": {},
   "source": [
    "## Tarefa 4: Estatística Descritiva\n",
    "\n",
    "Para o atributo alvo 'mpg', calcule:\n",
    " 1. Média\n",
    " 2. Mediana\n",
    " 3. Máximo\n",
    " 4. Mínimo\n",
    " 5. Desvio Padrão\n",
    " 6. Skewness\n",
    " 7. Curtose\n",
    " 6. Há outliers? (Valores de mpg acima ou abaixo da média + 2 desvios padrões)?\n",
    " 7. Responda: O que se pode afirmar a respeito da distribuição de dados desse atributo?"
   ]
  },
  {
   "cell_type": "code",
   "execution_count": null,
   "metadata": {},
   "outputs": [],
   "source": [
    "df.mpg.mean()"
   ]
  },
  {
   "cell_type": "code",
   "execution_count": null,
   "metadata": {},
   "outputs": [],
   "source": [
    "df.mpg.median()"
   ]
  },
  {
   "cell_type": "code",
   "execution_count": null,
   "metadata": {},
   "outputs": [],
   "source": [
    "df.mpg.max()"
   ]
  },
  {
   "cell_type": "code",
   "execution_count": null,
   "metadata": {},
   "outputs": [],
   "source": [
    "df.mpg.min()"
   ]
  },
  {
   "cell_type": "code",
   "execution_count": null,
   "metadata": {},
   "outputs": [],
   "source": [
    "df.mpg.std()"
   ]
  },
  {
   "cell_type": "code",
   "execution_count": null,
   "metadata": {},
   "outputs": [],
   "source": [
    "df.mpg.skew()"
   ]
  },
  {
   "cell_type": "code",
   "execution_count": null,
   "metadata": {},
   "outputs": [],
   "source": [
    "df.mpg.kurtosis()"
   ]
  },
  {
   "cell_type": "code",
   "execution_count": null,
   "metadata": {},
   "outputs": [],
   "source": [
    "df.mpg[\n",
    "    (df.mpg > df.mpg.mean() + 2 * df.mpg.std()) |\n",
    "    (df.mpg < df.mpg.mean() - 2 * df.mpg.std())\n",
    "]"
   ]
  },
  {
   "cell_type": "markdown",
   "metadata": {},
   "source": [
    "Os valores estão mais concentrados para a esquerda da média, visto que a obliquidade está positiva próxima de 0.5.\n",
    "A curtose é negativa, portanto a distribuição é Platicúrtica, ou seja os valores mínimo e máximo estão bem próximos."
   ]
  },
  {
   "cell_type": "markdown",
   "metadata": {},
   "source": [
    "## Tarefa 5: Identificando correlações\n",
    "\n",
    "1. Qual a correlação entre o peso do chassi (weight) e o consumo (mpg)?\n",
    "2. Essa medida de correlação é mais forte ao considerarmos apenas os carros da marca Toyota?\n",
    "3. Qual a correlação entre a potência (horsepower) e o consumo (mpg) para os veículos do dataset?"
   ]
  },
  {
   "cell_type": "code",
   "execution_count": null,
   "metadata": {},
   "outputs": [],
   "source": [
    "df_corr_weight_mpg = df[['weight', 'mpg']].corr(method='pearson')\n",
    "corr_weight_mpg = df_corr_weight_mpg.iloc[0, 1]\n",
    "corr_weight_mpg"
   ]
  },
  {
   "cell_type": "code",
   "execution_count": null,
   "metadata": {},
   "outputs": [],
   "source": [
    "df_toyota = df[df.name.apply(find_brand, args=['toyota'])]\n",
    "df_corr_weight_mpg_toyota = df_toyota[['weight', 'mpg']].corr(method='pearson')\n",
    "corr_weight_mpg_toyota = df_corr_weight_mpg_toyota.iloc[0, 1]\n",
    "corr_weight_mpg_toyota"
   ]
  },
  {
   "cell_type": "code",
   "execution_count": null,
   "metadata": {},
   "outputs": [],
   "source": [
    "abs(corr_weight_mpg) < abs(corr_weight_mpg_toyota)"
   ]
  },
  {
   "cell_type": "code",
   "execution_count": null,
   "metadata": {},
   "outputs": [],
   "source": [
    "corr_horsepower_mpg = df[['horsepower','mpg']].corr(method='pearson').iloc[0, 1]\n",
    "corr_horsepower_mpg"
   ]
  },
  {
   "cell_type": "markdown",
   "metadata": {},
   "source": [
    "## Tarefa 6: Preparando uma partição do tipo Holdout\n",
    "\n",
    "1. Remova do dataset a coluna 'name'\n",
    "2. Exclua o atributo alvo mpg do dataset e o atribua a uma variável Y\n",
    "3. Efetue uma partição holdout 70/30 utilizando o sci-kit learn.\n",
    " - Para auxiliar, consulte a [documentação](http://scikit-learn.org/stable/modules/generated/sklearn.model_selection.train_test_split.html)"
   ]
  },
  {
   "cell_type": "code",
   "execution_count": null,
   "metadata": {
    "collapsed": true
   },
   "outputs": [],
   "source": [
    "df = df.drop('name', axis=1)"
   ]
  },
  {
   "cell_type": "code",
   "execution_count": null,
   "metadata": {},
   "outputs": [],
   "source": [
    "df.head()"
   ]
  },
  {
   "cell_type": "code",
   "execution_count": null,
   "metadata": {
    "collapsed": true
   },
   "outputs": [],
   "source": [
    "X = df.iloc[:, 1:]\n",
    "y = df.iloc[:, 0]"
   ]
  },
  {
   "cell_type": "code",
   "execution_count": null,
   "metadata": {
    "collapsed": true
   },
   "outputs": [],
   "source": [
    "X_train, X_test, y_train, y_test = train_test_split(X, y, test_size=0.3)"
   ]
  }
 ],
 "metadata": {
  "kernelspec": {
   "display_name": "Python 3",
   "language": "python",
   "name": "python3"
  },
  "language_info": {
   "codemirror_mode": {
    "name": "ipython",
    "version": 3
   },
   "file_extension": ".py",
   "mimetype": "text/x-python",
   "name": "python",
   "nbconvert_exporter": "python",
   "pygments_lexer": "ipython3",
   "version": "3.6.6"
  }
 },
 "nbformat": 4,
 "nbformat_minor": 2
}
