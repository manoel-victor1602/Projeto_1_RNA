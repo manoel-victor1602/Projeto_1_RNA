{
 "cells": [
  {
   "cell_type": "markdown",
   "metadata": {},
   "source": [
    "# Teste 3 - 02/10/2018\n",
    "\n",
    "## Disponibilização: 26/09/2018 - 17h\n",
    "## Encerramento: 02/10/2018 - 18h\n",
    "\n",
    "\n",
    "\n",
    "- Manoel Victor Florencio de Souza\n",
    "- Sérgio Alexandre Arruda Pinheiro"
   ]
  },
  {
   "cell_type": "code",
   "execution_count": 1,
   "metadata": {},
   "outputs": [
    {
     "name": "stdout",
     "output_type": "stream",
     "text": [
      "Populating the interactive namespace from numpy and matplotlib\n"
     ]
    }
   ],
   "source": [
    "%pylab inline\n",
    "import numpy as np\n",
    "import matplotlib.pyplot as plt\n",
    "import random"
   ]
  },
  {
   "cell_type": "markdown",
   "metadata": {},
   "source": [
    "# 1 Conjunto de Treinamento"
   ]
  },
  {
   "cell_type": "code",
   "execution_count": 2,
   "metadata": {},
   "outputs": [
    {
     "data": {
      "text/plain": [
       "array([[-1,  0,  0],\n",
       "       [-1,  0,  1],\n",
       "       [-1,  1,  0],\n",
       "       [-1,  1,  1]])"
      ]
     },
     "execution_count": 2,
     "metadata": {},
     "output_type": "execute_result"
    }
   ],
   "source": [
    "X = np.array([[-1,0,0],[-1,0,1],[-1,1,0],[-1,1,1]])\n",
    "X"
   ]
  },
  {
   "cell_type": "code",
   "execution_count": 3,
   "metadata": {},
   "outputs": [],
   "source": [
    "y = np.array([1,0,0,0])"
   ]
  },
  {
   "cell_type": "markdown",
   "metadata": {},
   "source": [
    "# 2 Neurônio Perceptron"
   ]
  },
  {
   "cell_type": "code",
   "execution_count": 4,
   "metadata": {},
   "outputs": [
    {
     "data": {
      "text/plain": [
       "array([-0.1067,  0.0004,  0.0904])"
      ]
     },
     "execution_count": 4,
     "metadata": {},
     "output_type": "execute_result"
    }
   ],
   "source": [
    "W = np.array([round(random.uniform(-0.5, 0.5), 4) for i in range(3)])\n",
    "W"
   ]
  },
  {
   "cell_type": "code",
   "execution_count": 5,
   "metadata": {},
   "outputs": [],
   "source": [
    "def degree_function(x, W):\n",
    "    return (1 if (np.dot(x,W) >= 0) else 0)"
   ]
  },
  {
   "cell_type": "code",
   "execution_count": 6,
   "metadata": {},
   "outputs": [],
   "source": [
    "def update_weights(W, learning_rate, error, X):\n",
    "    \n",
    "    times_updated = 0\n",
    "    \n",
    "    for i in range(len(X)):\n",
    "        if(sum(learning_rate * error[i] * X[i]) != 0):\n",
    "            times_updated += 1\n",
    "            \n",
    "        W = W + learning_rate * error[i] * X[i]\n",
    "        \n",
    "    return (W, times_updated)"
   ]
  },
  {
   "cell_type": "code",
   "execution_count": 7,
   "metadata": {},
   "outputs": [],
   "source": [
    "def training_perceptron(W, X, y, activation_fuction):\n",
    "    i = 0\n",
    "    epoch = 1\n",
    "    new_W = W\n",
    "    total_times_updated = 0\n",
    "    \n",
    "    y_pred = [activation_fuction(X[i], W) for i in range(len(X))]\n",
    "\n",
    "    while sum(y == y_pred) != 4:\n",
    "\n",
    "        print(\"\\nIncio da época {}\".format(epoch))\n",
    "        print(\"Exemplos corretos: {}\\nExemplos incorretos: {}\".format(sum(y == y_pred), sum(y != y_pred)))\n",
    "        print(\"Pesos:\", new_W)\n",
    "\n",
    "        new_W, times_updated_per_epoch = update_weights(new_W, 0.1, y - y_pred, X)\n",
    "\n",
    "        i = (i + 1) % 4\n",
    "        y_pred = [activation_fuction(X[it], new_W) for it in range(len(X))]\n",
    "\n",
    "        total_times_updated += times_updated_per_epoch\n",
    "\n",
    "        if(sum(y == y_pred) != 4):\n",
    "            epoch += 1\n",
    "\n",
    "    print()\n",
    "    print(\"Épocas até a convergência: \", epoch)\n",
    "    print(\"Houve {} ajustes no vetor de pesos\".format(total_times_updated))\n",
    "    \n",
    "    return new_W"
   ]
  },
  {
   "cell_type": "code",
   "execution_count": 8,
   "metadata": {},
   "outputs": [
    {
     "name": "stdout",
     "output_type": "stream",
     "text": [
      "\n",
      "Incio da época 1\n",
      "Exemplos corretos: 1\n",
      "Exemplos incorretos: 3\n",
      "Pesos: [-0.1067  0.0004  0.0904]\n",
      "\n",
      "Incio da época 2\n",
      "Exemplos corretos: 3\n",
      "Exemplos incorretos: 1\n",
      "Pesos: [ 0.1933 -0.1996 -0.1096]\n",
      "\n",
      "Incio da época 3\n",
      "Exemplos corretos: 3\n",
      "Exemplos incorretos: 1\n",
      "Pesos: [ 0.0933 -0.1996 -0.1096]\n",
      "\n",
      "Épocas até a convergência:  3\n",
      "Houve 3 ajustes no vetor de pesos\n"
     ]
    }
   ],
   "source": [
    "new_W = training_perceptron(W, X, y, degree_function)"
   ]
  },
  {
   "cell_type": "markdown",
   "metadata": {},
   "source": [
    "# 3 Visualizando a Fronteira de Decisão"
   ]
  },
  {
   "cell_type": "code",
   "execution_count": 9,
   "metadata": {},
   "outputs": [
    {
     "data": {
      "text/plain": [
       "[<matplotlib.lines.Line2D at 0x240ac79c668>]"
      ]
     },
     "execution_count": 9,
     "metadata": {},
     "output_type": "execute_result"
    },
    {
     "data": {
      "image/png": "[encoded data removed]",
      "text/plain": [
       "<Figure size 432x288 with 1 Axes>"
      ]
     },
     "metadata": {},
     "output_type": "display_data"
    }
   ],
   "source": [
    "colormap = {1: 'b', 0: 'r'}\n",
    "colors = [colormap[x] for x in y]\n",
    "\n",
    "x = np.arange(-0.5, 1.5, 0.5)\n",
    "\n",
    "plt.scatter(X.T[1], X.T[2], color=colors)\n",
    "plt.plot(x, new_W[0]/new_W[2] - (new_W[1]/new_W[2]) * x)"
   ]
  },
  {
   "cell_type": "markdown",
   "metadata": {},
   "source": [
    "# 4 Funções de Ativação"
   ]
  },
  {
   "cell_type": "code",
   "execution_count": null,
   "metadata": {},
   "outputs": [],
   "source": []
  }
 ],
 "metadata": {
  "kernelspec": {
   "display_name": "Python 3",
   "language": "python",
   "name": "python3"
  },
  "language_info": {
   "codemirror_mode": {
    "name": "ipython",
    "version": 3
   },
   "file_extension": ".py",
   "mimetype": "text/x-python",
   "name": "python",
   "nbconvert_exporter": "python",
   "pygments_lexer": "ipython3",
   "version": "3.6.5"
  }
 },
 "nbformat": 4,
 "nbformat_minor": 2
}
