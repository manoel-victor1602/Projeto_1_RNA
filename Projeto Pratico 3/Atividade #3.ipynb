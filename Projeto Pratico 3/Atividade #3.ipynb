{
 "cells": [
  {
   "cell_type": "markdown",
   "metadata": {},
   "source": [
    "# Teste 3 - 02/10/2018\n",
    "\n",
    "## Disponibilização: 26/09/2018 - 17h\n",
    "## Encerramento: 02/10/2018 - 18h\n",
    "\n",
    "\n",
    "\n",
    "- Manoel Victor Florencio de Souza\n",
    "- Sérgio Alexandre Arruda Pinheiro"
   ]
  },
  {
   "cell_type": "code",
   "execution_count": 1,
   "metadata": {},
   "outputs": [
    {
     "name": "stdout",
     "output_type": "stream",
     "text": [
      "Populating the interactive namespace from numpy and matplotlib\n"
     ]
    }
   ],
   "source": [
    "%pylab inline\n",
    "import numpy as np\n",
    "import matplotlib.pyplot as plt\n",
    "import random"
   ]
  },
  {
   "cell_type": "markdown",
   "metadata": {},
   "source": [
    "# 1 Conjunto de Treinamento"
   ]
  },
  {
   "cell_type": "code",
   "execution_count": 2,
   "metadata": {},
   "outputs": [
    {
     "data": {
      "text/plain": [
       "array([[-1,  0,  0],\n",
       "       [-1,  0,  1],\n",
       "       [-1,  1,  0],\n",
       "       [-1,  1,  1]])"
      ]
     },
     "execution_count": 2,
     "metadata": {},
     "output_type": "execute_result"
    }
   ],
   "source": [
    "X = np.array([[-1,0,0],[-1,0,1],[-1,1,0],[-1,1,1]])\n",
    "X"
   ]
  },
  {
   "cell_type": "code",
   "execution_count": 3,
   "metadata": {},
   "outputs": [],
   "source": [
    "y = np.array([1,1,1,0])"
   ]
  },
  {
   "cell_type": "markdown",
   "metadata": {},
   "source": [
    "# 2 Neurônio Perceptron"
   ]
  },
  {
   "cell_type": "code",
   "execution_count": 12,
   "metadata": {},
   "outputs": [
    {
     "data": {
      "text/plain": [
       "array([ 0.2627, -0.1803, -0.1229])"
      ]
     },
     "execution_count": 12,
     "metadata": {},
     "output_type": "execute_result"
    }
   ],
   "source": [
    "W = np.array([round(random.uniform(-0.5, 0.5), 4) for i in range(3)])\n",
    "W"
   ]
  },
  {
   "cell_type": "code",
   "execution_count": 5,
   "metadata": {},
   "outputs": [],
   "source": [
    "def degree_function(x, W):\n",
    "    return (1 if (np.dot(x,W) >= 0) else 0)"
   ]
  },
  {
   "cell_type": "code",
   "execution_count": 6,
   "metadata": {},
   "outputs": [],
   "source": [
    "def update_weights_antigo(W, learning_rate, error, X):\n",
    "    \n",
    "    times_updated = 0\n",
    "    \n",
    "    print(\"X len: {}\".format(len(X)))\n",
    "    for i in range(len(X)):\n",
    "        if(sum(learning_rate * error[i] * X[i]) != 0):\n",
    "            times_updated += 1\n",
    "            \n",
    "            print(\"W: {}\".format(W))\n",
    "        W = W + learning_rate * error[i] * X[i]\n",
    "        \n",
    "    return (W, times_updated)"
   ]
  },
  {
   "cell_type": "code",
   "execution_count": 7,
   "metadata": {},
   "outputs": [],
   "source": [
    "def update_weights(W, learning_rate, error, X):\n",
    "    \n",
    "    times_updated = 0\n",
    "    \n",
    "    for i in range(len(X)):\n",
    "        if(error[i] != 0):\n",
    "            W = W + learning_rate * error[i] * X[i]\n",
    "            times_updated += 1\n",
    "        \n",
    "    return (W, times_updated)"
   ]
  },
  {
   "cell_type": "code",
   "execution_count": 8,
   "metadata": {},
   "outputs": [],
   "source": [
    "def training_perceptron(W, X, y, activation_fuction):\n",
    "    i = 0\n",
    "    epoch = 0\n",
    "    new_W = W\n",
    "    total_times_updated = 0\n",
    "    end = False\n",
    "\n",
    "    while(not end):\n",
    "        \n",
    "        epoch += 1\n",
    "        print(\"\\nIncio da época {}\".format(epoch))\n",
    "        \n",
    "        y_pred = [activation_fuction(X[i], new_W) for i in range(len(X))]\n",
    "        print(\"Exemplos corretos: {}\\nExemplos incorretos: {}\".format(sum(y == y_pred), sum(y != y_pred)))\n",
    "        print(\"Pesos:\", new_W)\n",
    "        \n",
    "        if (sum(y == y_pred) != 4):\n",
    "            new_W, update_per_epoch = update_weights(new_W, 0.1, y - y_pred, X)\n",
    "            total_times_updated += update_per_epoch\n",
    "        else:\n",
    "            end = True\n",
    "\n",
    "\n",
    "    print()\n",
    "    print(\"Épocas até a convergência: \", epoch)\n",
    "    print(\"Houveram {} ajustes no vetor de pesos\".format(total_times_updated))\n",
    "    \n",
    "    return new_W"
   ]
  },
  {
   "cell_type": "code",
   "execution_count": 13,
   "metadata": {
    "scrolled": false
   },
   "outputs": [
    {
     "name": "stdout",
     "output_type": "stream",
     "text": [
      "\n",
      "Incio da época 1\n",
      "Exemplos corretos: 1\n",
      "Exemplos incorretos: 3\n",
      "Pesos: [ 0.2627 -0.1803 -0.1229]\n",
      "\n",
      "Incio da época 2\n",
      "Exemplos corretos: 3\n",
      "Exemplos incorretos: 1\n",
      "Pesos: [-0.0373 -0.0803 -0.0229]\n",
      "\n",
      "Incio da época 3\n",
      "Exemplos corretos: 3\n",
      "Exemplos incorretos: 1\n",
      "Pesos: [-0.1373  0.0197 -0.0229]\n",
      "\n",
      "Incio da época 4\n",
      "Exemplos corretos: 2\n",
      "Exemplos incorretos: 2\n",
      "Pesos: [-0.0373 -0.0803 -0.1229]\n",
      "\n",
      "Incio da época 5\n",
      "Exemplos corretos: 3\n",
      "Exemplos incorretos: 1\n",
      "Pesos: [-0.2373  0.0197 -0.0229]\n",
      "\n",
      "Incio da época 6\n",
      "Exemplos corretos: 4\n",
      "Exemplos incorretos: 0\n",
      "Pesos: [-0.1373 -0.0803 -0.1229]\n",
      "\n",
      "Épocas até a convergência:  6\n",
      "Houveram 8 ajustes no vetor de pesos\n"
     ]
    }
   ],
   "source": [
    "new_W = training_perceptron(W, X, y, degree_function)"
   ]
  },
  {
   "cell_type": "markdown",
   "metadata": {},
   "source": [
    "# 3 Visualizando a Fronteira de Decisão"
   ]
  },
  {
   "cell_type": "code",
   "execution_count": 14,
   "metadata": {},
   "outputs": [
    {
     "data": {
      "text/plain": [
       "[<matplotlib.lines.Line2D at 0xa2906a0>]"
      ]
     },
     "execution_count": 14,
     "metadata": {},
     "output_type": "execute_result"
    },
    {
     "data": {
      "image/png": "[encoded data removed]",
      "text/plain": [
       "<matplotlib.figure.Figure at 0xa290908>"
      ]
     },
     "metadata": {},
     "output_type": "display_data"
    }
   ],
   "source": [
    "colormap = {1: 'b', 0: 'r'}\n",
    "colors = [colormap[x] for x in y]\n",
    "\n",
    "x = np.arange(-0.5, 2.5, 0.5)\n",
    "\n",
    "plt.scatter(X.T[1], X.T[2], color=colors)\n",
    "plt.plot(x, new_W[0]/new_W[2] - (new_W[1]/new_W[2]) * x)"
   ]
  },
  {
   "cell_type": "markdown",
   "metadata": {},
   "source": [
    "# 4 Funções de Ativação"
   ]
  },
  {
   "cell_type": "code",
   "execution_count": 15,
   "metadata": {},
   "outputs": [],
   "source": [
    "def make_values(n_samples):\n",
    "    interval = 3/n_samples\n",
    "    vals= np.array([-1.5])\n",
    "    for i in range(n_samples):\n",
    "        vals = np.append(vals, round(vals[-1]+interval,2))\n",
    "    return vals"
   ]
  },
  {
   "cell_type": "code",
   "execution_count": 16,
   "metadata": {},
   "outputs": [],
   "source": [
    "def degree_function_2(x):\n",
    "    return (1 if (x >= 0.5) else 0)\n",
    "\n",
    "def sigmoid_function(x):\n",
    "    return (1 / (1 + np.exp(-x)))\n",
    "\n",
    "def tamh_function(x):\n",
    "    return np.tanh(x)\n",
    "\n",
    "def relu_function(x):\n",
    "    return max([0, x])"
   ]
  },
  {
   "cell_type": "code",
   "execution_count": 17,
   "metadata": {},
   "outputs": [
    {
     "data": {
      "text/plain": [
       "array([-1.5, -1.2, -0.9, -0.6, -0.3,  0. ,  0.3,  0.6,  0.9,  1.2,  1.5])"
      ]
     },
     "execution_count": 17,
     "metadata": {},
     "output_type": "execute_result"
    }
   ],
   "source": [
    "x_axe = make_values(10)\n",
    "x_axe"
   ]
  },
  {
   "cell_type": "code",
   "execution_count": 27,
   "metadata": {},
   "outputs": [
    {
     "data": {
      "image/png": "[encoded data removed]",
      "text/plain": [
       "<matplotlib.figure.Figure at 0xcf826a0>"
      ]
     },
     "metadata": {},
     "output_type": "display_data"
    }
   ],
   "source": [
    "# Gráfico Degrau\n",
    "vals = [degree_function_2(val) for val in x_axe]\n",
    "\n",
    "plt.plot(vals)\n",
    "plt.title(\"Função Degrau\")\n",
    "plt.xticks([i for i in range(0, len(x_axe))],x_axe)\n",
    "plt.show()"
   ]
  },
  {
   "cell_type": "code",
   "execution_count": 28,
   "metadata": {
    "scrolled": true
   },
   "outputs": [
    {
     "data": {
      "image/png": "[encoded data removed]",
      "text/plain": [
       "<matplotlib.figure.Figure at 0xa813da0>"
      ]
     },
     "metadata": {},
     "output_type": "display_data"
    }
   ],
   "source": [
    "# Gráfico Sigmoide 1\n",
    "vals = [sigmoid_function(val) for val in x_axe]\n",
    "\n",
    "plt.plot(vals)\n",
    "plt.title(\"Função Sigmoide 1\")\n",
    "plt.xticks([i for i in range(0, len(x_axe))],x_axe)\n",
    "plt.show()"
   ]
  },
  {
   "cell_type": "code",
   "execution_count": 29,
   "metadata": {},
   "outputs": [
    {
     "data": {
      "image/png": "[encoded data removed]",
      "text/plain": [
       "<matplotlib.figure.Figure at 0xacae780>"
      ]
     },
     "metadata": {},
     "output_type": "display_data"
    }
   ],
   "source": [
    "# Gráfico Sigmoide 2\n",
    "vals = [sigmoid_function(val*2) for val in x_axe]\n",
    "\n",
    "plt.plot(vals)\n",
    "plt.title(\"Função Sigmoide 2\")\n",
    "plt.xticks([i for i in range(0, len(x_axe))],x_axe)\n",
    "plt.show()"
   ]
  },
  {
   "cell_type": "code",
   "execution_count": 31,
   "metadata": {},
   "outputs": [
    {
     "data": {
      "image/png": "[encoded data removed]",
      "text/plain": [
       "<matplotlib.figure.Figure at 0xd1fc550>"
      ]
     },
     "metadata": {},
     "output_type": "display_data"
    }
   ],
   "source": [
    "# Gráfico Sigmoide 3\n",
    "vals = [sigmoid_function(val*3) for val in x_axe]\n",
    "\n",
    "plt.plot(vals)\n",
    "plt.title(\"Função Sigmoide 3\")\n",
    "plt.xticks([i for i in range(0, len(x_axe))],x_axe)\n",
    "plt.show()"
   ]
  },
  {
   "cell_type": "code",
   "execution_count": 32,
   "metadata": {},
   "outputs": [
    {
     "data": {
      "image/png": "[encoded data removed]",
      "text/plain": [
       "<matplotlib.figure.Figure at 0xd091400>"
      ]
     },
     "metadata": {},
     "output_type": "display_data"
    }
   ],
   "source": [
    "# Gráfico Tangente Hiperbólica\n",
    "vals = [tamh_function(val) for val in x_axe]\n",
    "\n",
    "plt.plot(vals)\n",
    "plt.title(\"Função Tangente Hiperbólica\")\n",
    "plt.xticks([i for i in range(0, len(x_axe))],x_axe)\n",
    "plt.show()"
   ]
  },
  {
   "cell_type": "code",
   "execution_count": 33,
   "metadata": {},
   "outputs": [
    {
     "data": {
      "image/png": "[encoded data removed]",
      "text/plain": [
       "<matplotlib.figure.Figure at 0xd189550>"
      ]
     },
     "metadata": {},
     "output_type": "display_data"
    }
   ],
   "source": [
    "# Gráfico ReLU\n",
    "vals = [relu_function(val) for val in x_axe]\n",
    "\n",
    "plt.plot(vals)\n",
    "plt.title(\"Função ReLU\")\n",
    "plt.xticks([i for i in range(0, len(x_axe))],x_axe)\n",
    "plt.show()"
   ]
  }
 ],
 "metadata": {
  "kernelspec": {
   "display_name": "Python 3",
   "language": "python",
   "name": "python3"
  },
  "language_info": {
   "codemirror_mode": {
    "name": "ipython",
    "version": 3
   },
   "file_extension": ".py",
   "mimetype": "text/x-python",
   "name": "python",
   "nbconvert_exporter": "python",
   "pygments_lexer": "ipython3",
   "version": "3.6.4"
  }
 },
 "nbformat": 4,
 "nbformat_minor": 2
}
