{
 "cells": [
  {
   "cell_type": "markdown",
   "metadata": {},
   "source": [
    "# Teste 3 - 02/10/2018\n",
    "\n",
    "## Disponibilização: 26/09/2018 - 17h\n",
    "## Encerramento: 02/10/2018 - 18h\n",
    "\n",
    "\n",
    "\n",
    "- Manoel Victor Florencio de Souza\n",
    "- Sérgio Alexandre Arruda Pinheiro"
   ]
  },
  {
   "cell_type": "code",
   "execution_count": 17,
   "metadata": {},
   "outputs": [
    {
     "name": "stdout",
     "output_type": "stream",
     "text": [
      "Populating the interactive namespace from numpy and matplotlib\n"
     ]
    },
    {
     "name": "stderr",
     "output_type": "stream",
     "text": [
      "C:\\Users\\Inventario-LSE\\Anaconda3\\lib\\site-packages\\IPython\\core\\magics\\pylab.py:160: UserWarning: pylab import has clobbered these variables: ['colors', 'random']\n",
      "`%matplotlib` prevents importing * from pylab and numpy\n",
      "  \"\\n`%matplotlib` prevents importing * from pylab and numpy\"\n"
     ]
    }
   ],
   "source": [
    "%pylab inline\n",
    "import numpy as np\n",
    "import matplotlib.pyplot as plt\n",
    "import random"
   ]
  },
  {
   "cell_type": "markdown",
   "metadata": {},
   "source": [
    "# 1 Conjunto de Treinamento"
   ]
  },
  {
   "cell_type": "code",
   "execution_count": 18,
   "metadata": {},
   "outputs": [
    {
     "data": {
      "text/plain": [
       "array([[-1,  0,  0],\n",
       "       [-1,  0,  1],\n",
       "       [-1,  1,  0],\n",
       "       [-1,  1,  1]])"
      ]
     },
     "execution_count": 18,
     "metadata": {},
     "output_type": "execute_result"
    }
   ],
   "source": [
    "X = np.array([[-1,0,0],[-1,0,1],[-1,1,0],[-1,1,1]])\n",
    "X"
   ]
  },
  {
   "cell_type": "code",
   "execution_count": 19,
   "metadata": {},
   "outputs": [],
   "source": [
    "y = np.array([1,1,1,0])"
   ]
  },
  {
   "cell_type": "markdown",
   "metadata": {},
   "source": [
    "# 2 Neurônio Perceptron"
   ]
  },
  {
   "cell_type": "code",
   "execution_count": 20,
   "metadata": {},
   "outputs": [
    {
     "data": {
      "text/plain": [
       "array([ 0.0103,  0.1498, -0.4752])"
      ]
     },
     "execution_count": 20,
     "metadata": {},
     "output_type": "execute_result"
    }
   ],
   "source": [
    "W = np.array([round(random.uniform(-0.5, 0.5), 4) for i in range(3)])\n",
    "W"
   ]
  },
  {
   "cell_type": "code",
   "execution_count": 21,
   "metadata": {},
   "outputs": [],
   "source": [
    "def degree_function(x, W):\n",
    "    return (1 if (np.dot(x,W) >= 0) else 0)"
   ]
  },
  {
   "cell_type": "code",
   "execution_count": 22,
   "metadata": {},
   "outputs": [],
   "source": [
    "def update_weights(W, learning_rate, error, X):\n",
    "    \n",
    "    times_updated = 0\n",
    "    \n",
    "    for i in range(len(X)):\n",
    "        if(sum(learning_rate * error[i] * X[i]) != 0):\n",
    "            times_updated += 1\n",
    "            \n",
    "        W = W + learning_rate * error[i] * X[i]\n",
    "        \n",
    "    return (W, times_updated)"
   ]
  },
  {
   "cell_type": "code",
   "execution_count": 23,
   "metadata": {},
   "outputs": [],
   "source": [
    "def training_perceptron(W, X, y, activation_fuction):\n",
    "    i = 0\n",
    "    epoch = 0\n",
    "    new_W = W\n",
    "    total_times_updated = 0\n",
    "    end = False\n",
    "\n",
    "    while(not end):\n",
    "        \n",
    "        epoch += 1\n",
    "        print(\"\\nIncio da época {}\".format(epoch))\n",
    "        \n",
    "        y_pred = [activation_fuction(X[i], new_W) for i in range(len(X))]\n",
    "        print(\"Exemplos corretos: {}\\nExemplos incorretos: {}\".format(sum(y == y_pred), sum(y != y_pred)))\n",
    "        print(\"Pesos:\", new_W)\n",
    "        \n",
    "        if (sum(y == y_pred) != 4):\n",
    "            new_W, times_updated_per_epoch = update_weights(new_W, 0.1, y - y_pred, X)\n",
    "            total_times_updated += times_updated_per_epoch\n",
    "        else:\n",
    "            end = True\n",
    "\n",
    "\n",
    "    print()\n",
    "    print(\"Épocas até a convergência: \", epoch)\n",
    "    print(\"Houveram {} ajustes no vetor de pesos\".format(total_times_updated))\n",
    "    \n",
    "    return new_W"
   ]
  },
  {
   "cell_type": "code",
   "execution_count": 24,
   "metadata": {
    "scrolled": false
   },
   "outputs": [
    {
     "name": "stdout",
     "output_type": "stream",
     "text": [
      "\n",
      "Incio da época 1\n",
      "Exemplos corretos: 2\n",
      "Exemplos incorretos: 2\n",
      "Pesos: [ 0.0103  0.1498 -0.4752]\n",
      "\n",
      "Incio da época 2\n",
      "Exemplos corretos: 3\n",
      "Exemplos incorretos: 1\n",
      "Pesos: [-0.1897  0.1498 -0.3752]\n",
      "\n",
      "Incio da época 3\n",
      "Exemplos corretos: 3\n",
      "Exemplos incorretos: 1\n",
      "Pesos: [-0.2897  0.1498 -0.2752]\n",
      "\n",
      "Incio da época 4\n",
      "Exemplos corretos: 3\n",
      "Exemplos incorretos: 1\n",
      "Pesos: [-0.1897  0.0498 -0.3752]\n",
      "\n",
      "Incio da época 5\n",
      "Exemplos corretos: 3\n",
      "Exemplos incorretos: 1\n",
      "Pesos: [-0.2897  0.0498 -0.2752]\n",
      "\n",
      "Incio da época 6\n",
      "Exemplos corretos: 3\n",
      "Exemplos incorretos: 1\n",
      "Pesos: [-0.1897 -0.0502 -0.3752]\n",
      "\n",
      "Incio da época 7\n",
      "Exemplos corretos: 4\n",
      "Exemplos incorretos: 0\n",
      "Pesos: [-0.2897 -0.0502 -0.2752]\n",
      "\n",
      "Épocas até a convergência:  7\n",
      "Houveram 3 ajustes no vetor de pesos\n"
     ]
    }
   ],
   "source": [
    "new_W = training_perceptron(W, X, y, degree_function)"
   ]
  },
  {
   "cell_type": "markdown",
   "metadata": {},
   "source": [
    "# 3 Visualizando a Fronteira de Decisão"
   ]
  },
  {
   "cell_type": "code",
   "execution_count": 25,
   "metadata": {},
   "outputs": [
    {
     "data": {
      "text/plain": [
       "[<matplotlib.lines.Line2D at 0x1c27ae67390>]"
      ]
     },
     "execution_count": 25,
     "metadata": {},
     "output_type": "execute_result"
    },
    {
     "data": {
      "image/png": "[encoded data removed]",
      "text/plain": [
       "<Figure size 432x288 with 1 Axes>"
      ]
     },
     "metadata": {},
     "output_type": "display_data"
    }
   ],
   "source": [
    "colormap = {1: 'b', 0: 'r'}\n",
    "colors = [colormap[x] for x in y]\n",
    "\n",
    "x = np.arange(-0.5, 2.5, 0.5)\n",
    "\n",
    "plt.scatter(X.T[1], X.T[2], color=colors)\n",
    "plt.plot(x, new_W[0]/new_W[2] - (new_W[1]/new_W[2]) * x)"
   ]
  },
  {
   "cell_type": "markdown",
   "metadata": {},
   "source": [
    "# 4 Funções de Ativação"
   ]
  },
  {
   "cell_type": "code",
   "execution_count": 26,
   "metadata": {},
   "outputs": [],
   "source": [
    "def make_values(n_samples):\n",
    "    interval = 3/n_samples\n",
    "    vals= np.array([-1.5])\n",
    "    for i in range(n_samples):\n",
    "        vals = np.append(vals, round(vals[-1]+interval,2))\n",
    "    return vals"
   ]
  },
  {
   "cell_type": "code",
   "execution_count": 27,
   "metadata": {},
   "outputs": [],
   "source": [
    "def degree_function_2(x):\n",
    "    return (1 if (x >= 0.5) else 0)\n",
    "\n",
    "def sigmoid_function(x):\n",
    "    return (1 / (1 + np.exp(-x)))\n",
    "\n",
    "def tamh_function(x):\n",
    "    return np.tanh(x)\n",
    "\n",
    "def relu_function(x):\n",
    "    return max([0, x])"
   ]
  },
  {
   "cell_type": "code",
   "execution_count": 28,
   "metadata": {},
   "outputs": [
    {
     "data": {
      "text/plain": [
       "array([-1.5, -1.2, -0.9, -0.6, -0.3,  0. ,  0.3,  0.6,  0.9,  1.2,  1.5])"
      ]
     },
     "execution_count": 28,
     "metadata": {},
     "output_type": "execute_result"
    }
   ],
   "source": [
    "x_axe = make_values(10)\n",
    "x_axe"
   ]
  },
  {
   "cell_type": "code",
   "execution_count": 29,
   "metadata": {},
   "outputs": [
    {
     "data": {
      "image/png": "[encoded data removed]",
      "text/plain": [
       "<Figure size 432x288 with 1 Axes>"
      ]
     },
     "metadata": {},
     "output_type": "display_data"
    }
   ],
   "source": [
    "vals = [degree_function_2(val) for val in x_axe]\n",
    "\n",
    "plt.plot(vals)\n",
    "plt.xticks([i for i in range(0, len(x_axe))],x_axe)\n",
    "plt.show()"
   ]
  },
  {
   "cell_type": "code",
   "execution_count": 30,
   "metadata": {
    "scrolled": true
   },
   "outputs": [
    {
     "data": {
      "image/png": "[encoded data removed]",
      "text/plain": [
       "<Figure size 432x288 with 1 Axes>"
      ]
     },
     "metadata": {},
     "output_type": "display_data"
    }
   ],
   "source": [
    "vals = [sigmoid_function(val) for val in x_axe]\n",
    "\n",
    "plt.plot(vals)\n",
    "plt.xticks([i for i in range(0, len(x_axe))],x_axe)\n",
    "plt.show()"
   ]
  },
  {
   "cell_type": "code",
   "execution_count": 31,
   "metadata": {},
   "outputs": [
    {
     "data": {
      "image/png": "[encoded data removed]",
      "text/plain": [
       "<Figure size 432x288 with 1 Axes>"
      ]
     },
     "metadata": {},
     "output_type": "display_data"
    }
   ],
   "source": [
    "vals = [tamh_function(val) for val in x_axe]\n",
    "\n",
    "plt.plot(vals)\n",
    "plt.xticks([i for i in range(0, len(x_axe))],x_axe)\n",
    "plt.show()"
   ]
  },
  {
   "cell_type": "code",
   "execution_count": 32,
   "metadata": {},
   "outputs": [
    {
     "data": {
      "image/png": "[encoded data removed]",
      "text/plain": [
       "<Figure size 432x288 with 1 Axes>"
      ]
     },
     "metadata": {},
     "output_type": "display_data"
    }
   ],
   "source": [
    "vals = [relu_function(val) for val in x_axe]\n",
    "\n",
    "plt.plot(vals)\n",
    "plt.xticks([i for i in range(0, len(x_axe))],x_axe)\n",
    "plt.show()"
   ]
  }
 ],
 "metadata": {
  "kernelspec": {
   "display_name": "Python 3",
   "language": "python",
   "name": "python3"
  },
  "language_info": {
   "codemirror_mode": {
    "name": "ipython",
    "version": 3
   },
   "file_extension": ".py",
   "mimetype": "text/x-python",
   "name": "python",
   "nbconvert_exporter": "python",
   "pygments_lexer": "ipython3",
   "version": "3.6.5"
  }
 },
 "nbformat": 4,
 "nbformat_minor": 2
}
