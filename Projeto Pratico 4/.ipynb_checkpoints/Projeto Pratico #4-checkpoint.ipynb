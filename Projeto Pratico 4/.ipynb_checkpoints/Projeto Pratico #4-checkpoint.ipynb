{
 "cells": [
  {
   "cell_type": "markdown",
   "metadata": {},
   "source": [
    "# Projeto Prático 4\n",
    "\n",
    "Alunos:\n",
    "- Manoel Victor Florencio de Souza\n",
    "- Sérgio Alexandre Arruda Pinheiro"
   ]
  },
  {
   "cell_type": "code",
   "execution_count": 1,
   "metadata": {},
   "outputs": [],
   "source": [
    "import numpy as np\n",
    "from math import sqrt\n",
    "from math import ceil\n",
    "import pandas as pd\n",
    "from sklearn.neural_network import MLPClassifier\n",
    "from sklearn.model_selection import GridSearchCV\n",
    "from sklearn.model_selection import StratifiedKFold\n",
    "\n",
    "import random\n",
    "import warnings"
   ]
  },
  {
   "cell_type": "code",
   "execution_count": 2,
   "metadata": {},
   "outputs": [],
   "source": [
    "warnings.simplefilter(\"ignore\")"
   ]
  },
  {
   "cell_type": "markdown",
   "metadata": {},
   "source": [
    "Carregamento e tratamento do *Dataset*"
   ]
  },
  {
   "cell_type": "code",
   "execution_count": 3,
   "metadata": {},
   "outputs": [],
   "source": [
    "df = pd.read_csv('seeds_dataset.csv', '\\t')\n",
    "df['type'] = df['type'].map({1:'Kama', 2:'Rosa', 3:'Canadian'})\n",
    "X = df.iloc[:,:7]\n",
    "y = df.iloc[:,-1]"
   ]
  },
  {
   "cell_type": "markdown",
   "metadata": {},
   "source": [
    "Função **Piramid()** retorna uma lista de tuplas contendo todas as possíveis combinações de neurônios aceitáveis pelo parâmetro **hidden_layer_sizes**  de acordo com a regra da piramide geométrica:\n",
    "$$ N_{h} = \\alpha \\cdot \\sqrt{N_{i} \\cdot N_{o}}$$"
   ]
  },
  {
   "cell_type": "code",
   "execution_count": 4,
   "metadata": {},
   "outputs": [],
   "source": [
    "def piramid(alpha=2, n_in=7, n_out=1):\n",
    "    neurons = ceil(alpha * sqrt(n_in * n_out))\n",
    "    ret = [(neurons,)]\n",
    "    ret += [(neurons-n, n) for n in range(1, neurons)]\n",
    "    return ret"
   ]
  },
  {
   "cell_type": "markdown",
   "metadata": {},
   "source": [
    "Conjunto de parâmetros que irão constituir o *GridSearchCV*"
   ]
  },
  {
   "cell_type": "code",
   "execution_count": 5,
   "metadata": {},
   "outputs": [],
   "source": [
    "params = {\n",
    "    'activation': ['logistic', 'relu'], \n",
    "    'hidden_layer_sizes': list(piramid(alpha=0.5) + piramid(alpha=2) + piramid(alpha=3)),\n",
    "}"
   ]
  },
  {
   "cell_type": "code",
   "execution_count": 6,
   "metadata": {},
   "outputs": [],
   "source": [
    "clf = GridSearchCV(MLPClassifier(solver='lbfgs'), params, scoring='f1_macro')"
   ]
  },
  {
   "cell_type": "markdown",
   "metadata": {},
   "source": [
    "A medida de avaliação do modelo escolhida foi a f1_macro, pois a base de dados é homogênea (possui exatamente 70 exemplos de cada classe) e o problema é multiclasses.\n",
    "\n",
    "O solver lbfgs foi escolhido pois é o que melhor se adequa em relação ao tamanho da base de dados do problema (210,8), de acordo com a documentação do sklearn \"Para pequenas bases de dados, lbfgs converge mais rapidamente e obtém melhor performance\"¹.\n",
    "\n",
    "Referência: http://scikit-learn.org/stable/modules/generated/sklearn.neural_network.MLPClassifier.html ¹"
   ]
  },
  {
   "cell_type": "code",
   "execution_count": 7,
   "metadata": {
    "scrolled": true
   },
   "outputs": [
    {
     "name": "stdout",
     "output_type": "stream",
     "text": [
      "0.9586107492642447\n",
      "0.9271936135950938\n",
      "0.16666666666666666\n"
     ]
    }
   ],
   "source": [
    "kf = StratifiedKFold(n_splits=3, shuffle=True)\n",
    "for train_indexes, test_indexes in kf.split(X, y):\n",
    "    clf.fit(X.iloc[train_indexes], y.iloc[train_indexes])\n",
    "    print(clf.score(X.iloc[test_indexes], y.iloc[test_indexes]))"
   ]
  }
 ],
 "metadata": {
  "kernelspec": {
   "display_name": "Python 3",
   "language": "python",
   "name": "python3"
  },
  "language_info": {
   "codemirror_mode": {
    "name": "ipython",
    "version": 3
   },
   "file_extension": ".py",
   "mimetype": "text/x-python",
   "name": "python",
   "nbconvert_exporter": "python",
   "pygments_lexer": "ipython3",
   "version": "3.6.5"
  }
 },
 "nbformat": 4,
 "nbformat_minor": 2
}
