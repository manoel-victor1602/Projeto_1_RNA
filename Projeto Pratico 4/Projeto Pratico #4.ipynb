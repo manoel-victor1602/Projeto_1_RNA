{
 "cells": [
  {
   "cell_type": "markdown",
   "metadata": {},
   "source": [
    "# Projeto Prático 4\n",
    "\n",
    "Alunos:\n",
    "- Manoel Victor Florencio de Souza\n",
    "- Sérgio Alexandre Arruda Pinheiro\n",
    "- ??? Lucas Vinícius Martins da Frota ???"
   ]
  },
  {
   "cell_type": "code",
   "execution_count": 1,
   "metadata": {},
   "outputs": [],
   "source": [
    "import numpy as np\n",
    "from math import sqrt\n",
    "from math import ceil\n",
    "import pandas as pd\n",
    "from sklearn.neural_network import MLPClassifier\n",
    "from sklearn.model_selection import GridSearchCV\n",
    "from sklearn.model_selection import KFold"
   ]
  },
  {
   "cell_type": "markdown",
   "metadata": {},
   "source": [
    "Carregamento e tratamento do *Dataset*"
   ]
  },
  {
   "cell_type": "code",
   "execution_count": 2,
   "metadata": {},
   "outputs": [],
   "source": [
    "df = pd.read_csv('seeds_dataset.csv', '\\t')\n",
    "df['type'] = df['type'].map({1:'Kama', 2:'Rosa', 3:'Canadian'})\n",
    "X = df.iloc[:,:-1]\n",
    "y = df.iloc[:,-1:]"
   ]
  },
  {
   "cell_type": "markdown",
   "metadata": {},
   "source": [
    "Função **Piramid()** retorna uma lista de tuplas contendo todas as possíveis combinações de neurônios aceitáveis pelo parâmetro **hidden_layer_sizes**  de acordo com a regra da piramide geométrica:\n",
    "$$ N_{h} = \\alpha \\cdot \\sqrt{N_{i} \\cdot N_{o}}$$"
   ]
  },
  {
   "cell_type": "code",
   "execution_count": null,
   "metadata": {},
   "outputs": [],
   "source": [
    "def piramid(alpha=2, n_in=7, n_out=1):\n",
    "    neurons = ceil(alpha * sqrt(n_in * n_out))\n",
    "    ret = [(neurons,)]\n",
    "    ret += [(neurons-n, n) for n in range(1, neurons)]\n",
    "    return ret"
   ]
  },
  {
   "cell_type": "markdown",
   "metadata": {},
   "source": [
    "Conjunto de parâmetros que irão constituir o *GridSearch*"
   ]
  },
  {
   "cell_type": "code",
   "execution_count": null,
   "metadata": {},
   "outputs": [],
   "source": [
    "params = {\n",
    "    'activation': ['logistic', 'relu'], \n",
    "    'hidden_layer_sizes': list(piramid(alpha=0.5) + piramid(alpha=2) + piramid(alpha=3)),\n",
    "}"
   ]
  },
  {
   "cell_type": "code",
   "execution_count": null,
   "metadata": {},
   "outputs": [],
   "source": [
    "clf = GridSearchCV(MLPClassifier(), params, scoring='f1_macro')"
   ]
  },
  {
   "cell_type": "code",
   "execution_count": null,
   "metadata": {
    "scrolled": true
   },
   "outputs": [],
   "source": [
    "kf = KFold(n_splits=3)\n",
    "for train_indexes, test_indexes in kf.split(X):\n",
    "    clf.fit(X.iloc[train_indexes], y.iloc[train_indexes])\n",
    "    print(clf.score(X.iloc[test_indices], y.iloc[test_indices]))"
   ]
  }
 ],
 "metadata": {
  "kernelspec": {
   "display_name": "Python 3",
   "language": "python",
   "name": "python3"
  },
  "language_info": {
   "codemirror_mode": {
    "name": "ipython",
    "version": 3
   },
   "file_extension": ".py",
   "mimetype": "text/x-python",
   "name": "python",
   "nbconvert_exporter": "python",
   "pygments_lexer": "ipython3",
   "version": "3.6.4"
  }
 },
 "nbformat": 4,
 "nbformat_minor": 2
}
