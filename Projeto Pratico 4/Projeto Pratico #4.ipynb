{
 "cells": [
  {
   "cell_type": "markdown",
   "metadata": {},
   "source": [
    "# Projeto Prático 4\n",
    "\n",
    "Alunos:\n",
    "- Manoel Victor Florencio de Souza\n",
    "- Sérgio Alexandre Arruda Pinheiro"
   ]
  },
  {
   "cell_type": "code",
   "execution_count": 1,
   "metadata": {},
   "outputs": [],
   "source": [
    "import numpy as np\n",
    "from math import sqrt\n",
    "from math import ceil\n",
    "import pandas as pd\n",
    "from sklearn.neural_network import MLPClassifier\n",
    "from sklearn.model_selection import GridSearchCV\n",
    "from sklearn.model_selection import StratifiedKFold\n",
    "\n",
    "import warnings"
   ]
  },
  {
   "cell_type": "code",
   "execution_count": 2,
   "metadata": {},
   "outputs": [],
   "source": [
    "warnings.simplefilter(\"ignore\")"
   ]
  },
  {
   "cell_type": "markdown",
   "metadata": {},
   "source": [
    "Carregamento e tratamento do *Dataset*"
   ]
  },
  {
   "cell_type": "code",
   "execution_count": 13,
   "metadata": {},
   "outputs": [],
   "source": [
    "df = pd.read_csv('seeds_dataset.csv', '\\t')\n",
    "df['type'] = df['type'].map({1:'Kama', 2:'Rosa', 3:'Canadian'})\n",
    "X = df.iloc[:,:7]\n",
    "y = df.iloc[:,-1]"
   ]
  },
  {
   "cell_type": "code",
   "execution_count": 14,
   "metadata": {},
   "outputs": [
    {
     "data": {
      "text/html": [
       "<div>\n",
       "<style>\n",
       "    .dataframe thead tr:only-child th {\n",
       "        text-align: right;\n",
       "    }\n",
       "\n",
       "    .dataframe thead th {\n",
       "        text-align: left;\n",
       "    }\n",
       "\n",
       "    .dataframe tbody tr th {\n",
       "        vertical-align: top;\n",
       "    }\n",
       "</style>\n",
       "<table border=\"1\" class=\"dataframe\">\n",
       "  <thead>\n",
       "    <tr style=\"text-align: right;\">\n",
       "      <th></th>\n",
       "      <th>area</th>\n",
       "      <th>perimeter</th>\n",
       "      <th>compactness</th>\n",
       "      <th>length</th>\n",
       "      <th>width</th>\n",
       "      <th>asymmetry</th>\n",
       "      <th>groove</th>\n",
       "    </tr>\n",
       "  </thead>\n",
       "  <tbody>\n",
       "    <tr>\n",
       "      <th>area</th>\n",
       "      <td>1.000000</td>\n",
       "      <td>0.994341</td>\n",
       "      <td>0.608288</td>\n",
       "      <td>0.949985</td>\n",
       "      <td>0.970771</td>\n",
       "      <td>-0.229572</td>\n",
       "      <td>0.863693</td>\n",
       "    </tr>\n",
       "    <tr>\n",
       "      <th>perimeter</th>\n",
       "      <td>0.994341</td>\n",
       "      <td>1.000000</td>\n",
       "      <td>0.529244</td>\n",
       "      <td>0.972422</td>\n",
       "      <td>0.944829</td>\n",
       "      <td>-0.217340</td>\n",
       "      <td>0.890784</td>\n",
       "    </tr>\n",
       "    <tr>\n",
       "      <th>compactness</th>\n",
       "      <td>0.608288</td>\n",
       "      <td>0.529244</td>\n",
       "      <td>1.000000</td>\n",
       "      <td>0.367915</td>\n",
       "      <td>0.761635</td>\n",
       "      <td>-0.331471</td>\n",
       "      <td>0.226825</td>\n",
       "    </tr>\n",
       "    <tr>\n",
       "      <th>length</th>\n",
       "      <td>0.949985</td>\n",
       "      <td>0.972422</td>\n",
       "      <td>0.367915</td>\n",
       "      <td>1.000000</td>\n",
       "      <td>0.860415</td>\n",
       "      <td>-0.171562</td>\n",
       "      <td>0.932806</td>\n",
       "    </tr>\n",
       "    <tr>\n",
       "      <th>width</th>\n",
       "      <td>0.970771</td>\n",
       "      <td>0.944829</td>\n",
       "      <td>0.761635</td>\n",
       "      <td>0.860415</td>\n",
       "      <td>1.000000</td>\n",
       "      <td>-0.258037</td>\n",
       "      <td>0.749131</td>\n",
       "    </tr>\n",
       "    <tr>\n",
       "      <th>asymmetry</th>\n",
       "      <td>-0.229572</td>\n",
       "      <td>-0.217340</td>\n",
       "      <td>-0.331471</td>\n",
       "      <td>-0.171562</td>\n",
       "      <td>-0.258037</td>\n",
       "      <td>1.000000</td>\n",
       "      <td>-0.011079</td>\n",
       "    </tr>\n",
       "    <tr>\n",
       "      <th>groove</th>\n",
       "      <td>0.863693</td>\n",
       "      <td>0.890784</td>\n",
       "      <td>0.226825</td>\n",
       "      <td>0.932806</td>\n",
       "      <td>0.749131</td>\n",
       "      <td>-0.011079</td>\n",
       "      <td>1.000000</td>\n",
       "    </tr>\n",
       "  </tbody>\n",
       "</table>\n",
       "</div>"
      ],
      "text/plain": [
       "                 area  perimeter  compactness    length     width  asymmetry  \\\n",
       "area         1.000000   0.994341     0.608288  0.949985  0.970771  -0.229572   \n",
       "perimeter    0.994341   1.000000     0.529244  0.972422  0.944829  -0.217340   \n",
       "compactness  0.608288   0.529244     1.000000  0.367915  0.761635  -0.331471   \n",
       "length       0.949985   0.972422     0.367915  1.000000  0.860415  -0.171562   \n",
       "width        0.970771   0.944829     0.761635  0.860415  1.000000  -0.258037   \n",
       "asymmetry   -0.229572  -0.217340    -0.331471 -0.171562 -0.258037   1.000000   \n",
       "groove       0.863693   0.890784     0.226825  0.932806  0.749131  -0.011079   \n",
       "\n",
       "               groove  \n",
       "area         0.863693  \n",
       "perimeter    0.890784  \n",
       "compactness  0.226825  \n",
       "length       0.932806  \n",
       "width        0.749131  \n",
       "asymmetry   -0.011079  \n",
       "groove       1.000000  "
      ]
     },
     "execution_count": 14,
     "metadata": {},
     "output_type": "execute_result"
    }
   ],
   "source": [
    "df.corr()"
   ]
  },
  {
   "cell_type": "code",
   "execution_count": 3,
   "metadata": {},
   "outputs": [
    {
     "data": {
      "text/html": [
       "<div>\n",
       "<style>\n",
       "    .dataframe thead tr:only-child th {\n",
       "        text-align: right;\n",
       "    }\n",
       "\n",
       "    .dataframe thead th {\n",
       "        text-align: left;\n",
       "    }\n",
       "\n",
       "    .dataframe tbody tr th {\n",
       "        vertical-align: top;\n",
       "    }\n",
       "</style>\n",
       "<table border=\"1\" class=\"dataframe\">\n",
       "  <thead>\n",
       "    <tr style=\"text-align: right;\">\n",
       "      <th></th>\n",
       "      <th>area</th>\n",
       "      <th>compactness</th>\n",
       "      <th>asymmetry</th>\n",
       "      <th>type</th>\n",
       "    </tr>\n",
       "  </thead>\n",
       "  <tbody>\n",
       "    <tr>\n",
       "      <th>area</th>\n",
       "      <td>1.000000</td>\n",
       "      <td>0.608288</td>\n",
       "      <td>-0.229572</td>\n",
       "      <td>-0.346058</td>\n",
       "    </tr>\n",
       "    <tr>\n",
       "      <th>compactness</th>\n",
       "      <td>0.608288</td>\n",
       "      <td>1.000000</td>\n",
       "      <td>-0.331471</td>\n",
       "      <td>-0.531007</td>\n",
       "    </tr>\n",
       "    <tr>\n",
       "      <th>asymmetry</th>\n",
       "      <td>-0.229572</td>\n",
       "      <td>-0.331471</td>\n",
       "      <td>1.000000</td>\n",
       "      <td>0.577273</td>\n",
       "    </tr>\n",
       "    <tr>\n",
       "      <th>type</th>\n",
       "      <td>-0.346058</td>\n",
       "      <td>-0.531007</td>\n",
       "      <td>0.577273</td>\n",
       "      <td>1.000000</td>\n",
       "    </tr>\n",
       "  </tbody>\n",
       "</table>\n",
       "</div>"
      ],
      "text/plain": [
       "                 area  compactness  asymmetry      type\n",
       "area         1.000000     0.608288  -0.229572 -0.346058\n",
       "compactness  0.608288     1.000000  -0.331471 -0.531007\n",
       "asymmetry   -0.229572    -0.331471   1.000000  0.577273\n",
       "type        -0.346058    -0.531007   0.577273  1.000000"
      ]
     },
     "execution_count": 3,
     "metadata": {},
     "output_type": "execute_result"
    }
   ],
   "source": [
    "df_teste = pd.read_csv('seeds_dataset.csv', '\\t')\n",
    "df_teste = df_teste.drop(['perimeter', 'length','width','groove'], axis=1)\n",
    "X_teste = df_teste.iloc[:,:-1]\n",
    "y_teste = df_teste.iloc[:,-1]\n",
    "df_teste.corr('pearson')"
   ]
  },
  {
   "cell_type": "markdown",
   "metadata": {},
   "source": [
    "Função **Piramid()** retorna uma lista de tuplas contendo todas as possíveis combinações de neurônios aceitáveis pelo parâmetro **hidden_layer_sizes**  de acordo com a regra da piramide geométrica:\n",
    "$$ N_{h} = \\alpha \\cdot \\sqrt{N_{i} \\cdot N_{o}}$$"
   ]
  },
  {
   "cell_type": "code",
   "execution_count": 4,
   "metadata": {},
   "outputs": [],
   "source": [
    "def piramid(alpha=2, n_in=7, n_out=1):\n",
    "    neurons = ceil(alpha * sqrt(n_in * n_out))\n",
    "    ret = [(neurons,)]\n",
    "    ret += [(neurons-n, n) for n in range(1, neurons)]\n",
    "    return ret"
   ]
  },
  {
   "cell_type": "markdown",
   "metadata": {},
   "source": [
    "Conjunto de parâmetros que irão constituir o *GridSearchCV*"
   ]
  },
  {
   "cell_type": "code",
   "execution_count": 5,
   "metadata": {},
   "outputs": [],
   "source": [
    "params = {\n",
    "    'activation': ['logistic', 'relu'], \n",
    "    'max_iter': [200, 400, 800],\n",
    "    'hidden_layer_sizes': list(piramid(alpha=0.5) + piramid(alpha=2) + piramid(alpha=3))\n",
    "}"
   ]
  },
  {
   "cell_type": "code",
   "execution_count": 9,
   "metadata": {},
   "outputs": [],
   "source": [
    "params = {\n",
    "    'activation': ['logistic', 'relu'], \n",
    "    'max_iter': [200, 400, 800],\n",
    "    'hidden_layer_sizes': list(piramid(alpha=0.5, n_in=3) + piramid(alpha=2, n_in=3) + piramid(alpha=3, n_in=3))\n",
    "}"
   ]
  },
  {
   "cell_type": "code",
   "execution_count": 10,
   "metadata": {},
   "outputs": [
    {
     "data": {
      "text/plain": [
       "{'activation': ['logistic', 'relu'],\n",
       " 'max_iter': [200, 400, 800],\n",
       " 'hidden_layer_sizes': [(1,),\n",
       "  (4,),\n",
       "  (3, 1),\n",
       "  (2, 2),\n",
       "  (1, 3),\n",
       "  (6,),\n",
       "  (5, 1),\n",
       "  (4, 2),\n",
       "  (3, 3),\n",
       "  (2, 4),\n",
       "  (1, 5)]}"
      ]
     },
     "execution_count": 10,
     "metadata": {},
     "output_type": "execute_result"
    }
   ],
   "source": [
    "params"
   ]
  },
  {
   "cell_type": "code",
   "execution_count": 11,
   "metadata": {},
   "outputs": [],
   "source": [
    "clf = GridSearchCV(MLPClassifier(solver='lbfgs'), params, scoring='f1_macro')"
   ]
  },
  {
   "cell_type": "markdown",
   "metadata": {},
   "source": [
    "A medida de avaliação do modelo escolhida foi a f1_macro, pois a base de dados é homogênea (possui exatamente 70 exemplos de cada classe) e o problema é multiclasses.\n",
    "\n",
    "O solver lbfgs foi escolhido pois é o que melhor se adequa em relação ao número de exemplos na base de dados do problema (210) e de acordo com a documentação do sklearn \"Para pequenas bases de dados, lbfgs converge mais rapidamente e obtém melhor performance\"¹.\n",
    "\n",
    "Referência: http://scikit-learn.org/stable/modules/generated/sklearn.neural_network.MLPClassifier.html ¹"
   ]
  },
  {
   "cell_type": "code",
   "execution_count": null,
   "metadata": {},
   "outputs": [],
   "source": [
    "best_nets = []"
   ]
  },
  {
   "cell_type": "code",
   "execution_count": null,
   "metadata": {
    "scrolled": true
   },
   "outputs": [],
   "source": [
    "kf = StratifiedKFold(n_splits=3, shuffle=True)\n",
    "for train_indexes, test_indexes in kf.split(X, y):\n",
    "    clf.fit(X.iloc[train_indexes], y.iloc[train_indexes])\n",
    "    print(clf.score(X.iloc[test_indexes], y.iloc[test_indexes]))\n",
    "    d = clf.best_params_.copy()\n",
    "    d['score'] = clf.score(X.iloc[test_indexes], y.iloc[test_indexes])\n",
    "    d['model'] = clf.best_estimator_\n",
    "    best_nets.append(d)"
   ]
  },
  {
   "cell_type": "code",
   "execution_count": 12,
   "metadata": {},
   "outputs": [
    {
     "name": "stdout",
     "output_type": "stream",
     "text": [
      "0.8605020022193274\n",
      "{'activation': 'logistic', 'hidden_layer_sizes': (4,), 'max_iter': 200}\n",
      "0.8977060311177086\n",
      "{'activation': 'logistic', 'hidden_layer_sizes': (5, 1), 'max_iter': 800}\n",
      "0.8674706246134818\n",
      "{'activation': 'relu', 'hidden_layer_sizes': (6,), 'max_iter': 200}\n"
     ]
    }
   ],
   "source": [
    "kf = StratifiedKFold(n_splits=3, shuffle=True)\n",
    "for train_indexes, test_indexes in kf.split(X_teste, y_teste):\n",
    "    clf.fit(X_teste.iloc[train_indexes], y_teste.iloc[train_indexes])\n",
    "    print(clf.score(X_teste.iloc[test_indexes], y_teste.iloc[test_indexes]))\n",
    "    print(clf.best_params_)"
   ]
  },
  {
   "cell_type": "code",
   "execution_count": null,
   "metadata": {},
   "outputs": [],
   "source": [
    "best_nets"
   ]
  }
 ],
 "metadata": {
  "kernelspec": {
   "display_name": "Python 3",
   "language": "python",
   "name": "python3"
  },
  "language_info": {
   "codemirror_mode": {
    "name": "ipython",
    "version": 3
   },
   "file_extension": ".py",
   "mimetype": "text/x-python",
   "name": "python",
   "nbconvert_exporter": "python",
   "pygments_lexer": "ipython3",
   "version": "3.6.5"
  }
 },
 "nbformat": 4,
 "nbformat_minor": 2
}
